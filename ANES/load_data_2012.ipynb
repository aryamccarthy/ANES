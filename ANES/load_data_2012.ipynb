{
 "cells": [
  {
   "cell_type": "markdown",
   "metadata": {},
   "source": [
    "# Load and preprocess 2012 data\n",
    "\n",
    "We will, over time, look over other years. Our current goal is to explore the features of a single year.\n",
    "\n",
    "---"
   ]
  },
  {
   "cell_type": "code",
   "execution_count": 1,
   "metadata": {
    "collapsed": false
   },
   "outputs": [
    {
     "name": "stdout",
     "output_type": "stream",
     "text": [
      "Populating the interactive namespace from numpy and matplotlib\n"
     ]
    }
   ],
   "source": [
    "%pylab --no-import-all inline\n",
    "import pandas as pd\n",
    "%matplotlib inline"
   ]
  },
  {
   "cell_type": "markdown",
   "metadata": {},
   "source": [
    "## Load the data.\n",
    "\n",
    "---\n",
    "\n",
    "If this fails, be sure that you've saved your own data in the prescribed location, then retry."
   ]
  },
  {
   "cell_type": "code",
   "execution_count": 2,
   "metadata": {
    "collapsed": false
   },
   "outputs": [],
   "source": [
    "file = \"../data/anes_timeseries_2012.dta\"\n",
    "df_raw = pd.read_stata(file)\n",
    "\n",
    "good_columns = ['campfin_limcorp', # \"Should gov be able to limit corporate contributions\"\n",
    "                'pid_self', # Your own party identification\n",
    "                'spsrvpr_ssself', # Government services\n",
    "                'defsppr_self', # Defense spending\n",
    "                'inspre_self', \n",
    "                'gun_control', # Gun control\n",
    "                'guarpr_self',  # Is the gov't responsible for standard of living?\n",
    "                'immig_policy', \n",
    "                'aidblack_self', \n",
    "                'envjob_self', \n",
    "                'aa_uni', \n",
    "                'fedspend_ss', \n",
    "                'fedspend_schools', \n",
    "                'fedspend_scitech', \n",
    "                'fedspend_crime', \n",
    "                'fedspend_welfare', \n",
    "                'envir_gwarm', \n",
    "                'gayrt_marry', \n",
    "                'penalty_favdpen', \n",
    "                'relig_churchoft', # Do you go to church often?\n",
    "                'dem_edu',  # Not really about parties.\n",
    "                'dem_veteran', # Are you a veteran?\n",
    "                'budget_rdefctax', \n",
    "                'budget_rdefmil', \n",
    "                'patriot_amident', \n",
    "                'milln_milltax', \n",
    "                'fairjob_opin', \n",
    "                'immigpo_jobs', # Do immigrants take jobs?\n",
    "                'wiretap_warrant',\n",
    "               ]  # TODO: add voted for\n",
    "                  # TODO: for or against a progressive tax scheme\n",
    "                  # TODO: add diplomacy and military intervention\n",
    "\n",
    "\n",
    "df_raw = df_raw[good_columns]"
   ]
  },
  {
   "cell_type": "markdown",
   "metadata": {},
   "source": [
    "## Clean the data\n",
    "---"
   ]
  },
  {
   "cell_type": "code",
   "execution_count": 3,
   "metadata": {
    "collapsed": false
   },
   "outputs": [],
   "source": [
    "def convert_to_int(s):\n",
    "    \"\"\"Turn ANES data entry into an integer.\n",
    "    \n",
    "    >>> convert_to_int(\"1. Govt should provide many fewer services\")\n",
    "    1\n",
    "    >>> convert_to_int(\"2\")\n",
    "    2\n",
    "    \"\"\"\n",
    "    try:\n",
    "        return int(s.partition('.')[0])\n",
    "    except ValueError:\n",
    "        warnings.warn(\"Couldn't convert: \"+s)\n",
    "        return np.nan\n",
    "    except AttributeError:\n",
    "        return s\n",
    "\n",
    "def negative_to_nan(value):\n",
    "    \"\"\"Convert negative values to missing.\n",
    "    \n",
    "    ANES codes various non-answers as negative numbers.\n",
    "    For instance, if a question does not pertain to the \n",
    "    respondent.\n",
    "    \"\"\"\n",
    "    return value if value >= 0 else np.nan\n",
    "\n",
    "def lib1_cons2_neutral3(x):\n",
    "    \"\"\"Rearrange questions where 3 is neutral.\"\"\"\n",
    "    return -3 + x if x != 1 else x\n",
    "\n",
    "def liblow_conshigh(x):\n",
    "    \"\"\"Reorder questions where the liberal response is low.\"\"\"\n",
    "    return -x\n",
    "\n",
    "def dem_edu_special_treatment(x):\n",
    "    \"\"\"Eliminate negative numbers and {95. Other}\"\"\"\n",
    "    return np.nan if x == 95 or x <0 else x\n",
    "\n",
    "def pid_self_special_treatment(x):\n",
    "    return np.nan if x not in {1, 2, 3} else lib1_cons2_neutral3(x)\n",
    "\n",
    "transforms = {}\n",
    "transforms['campfin_limcorp'] = lib1_cons2_neutral3\n",
    "transforms['pid_self'] = pid_self_special_treatment\n",
    "transforms['defsppr_self'] = liblow_conshigh\n",
    "transforms['inspre_self'] = liblow_conshigh\n",
    "transforms['gun_control'] = lib1_cons2_neutral3\n",
    "transforms['guarpr_self'] = liblow_conshigh\n",
    "transforms['aidblack_self'] = liblow_conshigh\n",
    "transforms['envjob_self'] = liblow_conshigh\n",
    "transforms['aa_uni'] = lib1_cons2_neutral3\n",
    "transforms['fedspend_ss'] = lib1_cons2_neutral3\n",
    "transforms['fedspend_schools'] = lib1_cons2_neutral3\n",
    "transforms['fedspend_scitech'] = lib1_cons2_neutral3\n",
    "transforms['fedspend_crime'] = lib1_cons2_neutral3\n",
    "transforms['fedspend_welfare'] = lib1_cons2_neutral3\n",
    "transforms['envir_gwarm'] = liblow_conshigh\n",
    "transforms['gayrt_marry'] = liblow_conshigh\n",
    "transforms['budget_rdefctax'] = lib1_cons2_neutral3\n",
    "transforms['budget_rdefmil'] = lib1_cons2_neutral3\n",
    "transforms['milln_milltax'] = lib1_cons2_neutral3\n",
    "transforms['fairjob_opin'] = lambda x: np.nan if x not in {1, 2} else -x\n",
    "transforms['wiretap_warrant'] = lib1_cons2_neutral3\n",
    "transforms['dem_edu'] = dem_edu_special_treatment\n",
    "\n",
    "df = df_raw.applymap(convert_to_int)\n",
    "df = df.applymap(negative_to_nan)\n",
    "\n",
    "# Transform each column.\n",
    "for column in df.columns:\n",
    "    try:\n",
    "        df[column] = df[column].map(transforms[column], na_action='ignore')\n",
    "    except KeyError:\n",
    "        pass"
   ]
  },
  {
   "cell_type": "code",
   "execution_count": 4,
   "metadata": {
    "collapsed": false
   },
   "outputs": [
    {
     "name": "stdout",
     "output_type": "stream",
     "text": [
      "Variables now available: df\n"
     ]
    }
   ],
   "source": [
    "print(\"Variables now available: df\")"
   ]
  }
 ],
 "metadata": {
  "anaconda-cloud": {},
  "kernelspec": {
   "display_name": "Python [default]",
   "language": "python",
   "name": "python3"
  },
  "language_info": {
   "codemirror_mode": {
    "name": "ipython",
    "version": 3
   },
   "file_extension": ".py",
   "mimetype": "text/x-python",
   "name": "python",
   "nbconvert_exporter": "python",
   "pygments_lexer": "ipython3",
   "version": "3.5.2"
  }
 },
 "nbformat": 4,
 "nbformat_minor": 1
}
