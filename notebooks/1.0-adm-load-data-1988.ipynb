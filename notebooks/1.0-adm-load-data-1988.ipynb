{
 "cells": [
  {
   "cell_type": "markdown",
   "metadata": {
    "deletable": true,
    "editable": true
   },
   "source": [
    "# Load and preprocess 1988 data\n",
    "\n",
    "We will, over time, look over other years. Our current goal is to explore the features of a single year.\n",
    "\n",
    "---"
   ]
  },
  {
   "cell_type": "code",
   "execution_count": 1,
   "metadata": {
    "collapsed": false,
    "deletable": true,
    "editable": true
   },
   "outputs": [
    {
     "name": "stdout",
     "output_type": "stream",
     "text": [
      "Populating the interactive namespace from numpy and matplotlib\n"
     ]
    }
   ],
   "source": [
    "%pylab --no-import-all inline\n",
    "import pandas as pd"
   ]
  },
  {
   "cell_type": "markdown",
   "metadata": {
    "deletable": true,
    "editable": true
   },
   "source": [
    "## Load the data.\n",
    "\n",
    "---\n",
    "\n",
    "If this fails, be sure that you've saved your own data in the prescribed location, then retry."
   ]
  },
  {
   "cell_type": "code",
   "execution_count": 2,
   "metadata": {
    "collapsed": true
   },
   "outputs": [],
   "source": [
    "file = \"../data/interim/1988data.dta\"\n",
    "df_rawest = pd.read_stata(file)"
   ]
  },
  {
   "cell_type": "code",
   "execution_count": 3,
   "metadata": {
    "collapsed": false,
    "deletable": true,
    "editable": true
   },
   "outputs": [],
   "source": [
    "good_columns = [\n",
    "    'V880274',  # Party Identification\n",
    "    \n",
    "    'V880395',  #Abortion\n",
    "    'V880951',  #Moral Relativism\n",
    "    'V880954',  #“Newer Lifestyles”\n",
    "    'V880952',  #Moral Tolerance\n",
    "    'V880953',  #Traditional Families\n",
    "    'V880852',  #Gay Job Discrimination\n",
    "    \n",
    "    'V880318',  #National Health Insurance\n",
    "    'V880323',  #Guaranteed Job\n",
    "    'V880302',  #Services/Spending\n",
    "    \n",
    "    'V880857',  #Affirmative Action\n",
    "    'V880961',  #Racial Resentment 1\n",
    "    'V880962',  #Racial Resentment2\n",
    "    'V880963',  #Racial Resentment3\n",
    "    'V880964',  #Racial Resentment4\n",
    "]\n",
    "df_raw = df_rawest[good_columns]"
   ]
  },
  {
   "cell_type": "markdown",
   "metadata": {
    "deletable": true,
    "editable": true
   },
   "source": [
    "## Clean the data\n",
    "---"
   ]
  },
  {
   "cell_type": "code",
   "execution_count": 4,
   "metadata": {
    "collapsed": false,
    "deletable": true,
    "editable": true
   },
   "outputs": [],
   "source": [
    "def convert_to_int(s):\n",
    "    \"\"\"Turn ANES data entry into an integer.\n",
    "    \n",
    "    >>> convert_to_int(\"1. Govt should provide many fewer services\")\n",
    "    1\n",
    "    >>> convert_to_int(\"2\")\n",
    "    2\n",
    "    \"\"\"\n",
    "    try:\n",
    "        return int(s.partition('.')[0])\n",
    "    except ValueError:\n",
    "        warnings.warn(\"Couldn't convert: \"+s)\n",
    "        return np.nan\n",
    "    except AttributeError:\n",
    "        return s\n",
    "    \n",
    "def not_informative_to_nan(x):\n",
    "    \"\"\"Convert non-informative values to missing.\n",
    "    \n",
    "    ANES codes various non-answers as 8, 9, and 0.\n",
    "    For instance, if a question does not pertain to the \n",
    "    respondent.\n",
    "    \"\"\"\n",
    "    return np.nan if x in {8, 9, 0} else x\n",
    "\n",
    "df = df_raw.applymap(convert_to_int)\n",
    "\n",
    "df.rename(inplace=True, columns=dict(zip(\n",
    "    good_columns,\n",
    "    [\"PartyID\",\n",
    "    \n",
    "    \"Abortion\",\n",
    "    \"MoralRelativism\",\n",
    "    \"NewerLifestyles\",\n",
    "    \"MoralTolerance\",\n",
    "    \"TraditionalFamilies\",\n",
    "    \"GayJobDiscrimination\",\n",
    "\n",
    "    \"NationalHealthInsurance\",\n",
    "    \"StandardOfLiving\",\n",
    "    \"ServicesVsSpending\",\n",
    "\n",
    "    \"AffirmativeAction\",\n",
    "    \"RacialWorkWayUp\",\n",
    "    \"RacialDeserve\",\n",
    "    \"RacialTryHarder\",\n",
    "    \"RacialGenerational\",\n",
    "    ]\n",
    ")))\n",
    "\n",
    "non_pid_columns = list(df.columns)\n",
    "non_pid_columns.remove('PartyID')\n",
    "df[non_pid_columns] = df[non_pid_columns].applymap(not_informative_to_nan)\n",
    "\n",
    "# Code so that liberal is lower numbers\n",
    "df.loc[:, 'PartyID'] = df.PartyID.apply(lambda x: np.nan if x >= 7 else x)  # 7: other minor party, 8: apolitical, 9: NA\n",
    "\n",
    "df.loc[:, 'Abortion'] = df.Abortion.apply(lambda x: np.nan if x in {7, 8, 9, 0} else -x)\n",
    "\n",
    "\n",
    "df.loc[:, 'NewerLifestyles'] = df.NewerLifestyles.apply(lambda x: -x)  # Tolerance. 1: tolerance, 7: not\n",
    "df.loc[:, 'TraditionalFamilies'] = df.TraditionalFamilies.apply(lambda x: -x)  # 1: moral relativism, 5: no relativism\n",
    "\n",
    "df.loc[:, 'ServicesVsSpending'] = df.ServicesVsSpending.apply(lambda x: -x)  # Gov't insurance?\n",
    "\n",
    "df.loc[:, 'RacialTryHarder'] = df.RacialTryHarder.apply(lambda x: -x)  # Racial support\n",
    "df.loc[:, 'RacialWorkWayUp'] = df.RacialWorkWayUp.apply(lambda x: -x)  # Systemic factors?"
   ]
  },
  {
   "cell_type": "code",
   "execution_count": 5,
   "metadata": {
    "collapsed": false
   },
   "outputs": [
    {
     "name": "stdout",
     "output_type": "stream",
     "text": [
      "Variables now available: df\n"
     ]
    }
   ],
   "source": [
    "print(\"Variables now available: df\")"
   ]
  },
  {
   "cell_type": "code",
   "execution_count": 6,
   "metadata": {
    "collapsed": false
   },
   "outputs": [
    {
     "data": {
      "text/plain": [
       "1. WEAK DEM         359\n",
       "0. STRONG DEM       355\n",
       "5. WEAK REP         281\n",
       "6. STRONG REP       279\n",
       "4. IND-REP          270\n",
       "2. IND-DEM          240\n",
       "3. IND-IND          215\n",
       "8. APOLITICAL        33\n",
       "9. NA                 7\n",
       "7. OTH-MINOR PTY      1\n",
       "Name: V880274, dtype: int64"
      ]
     },
     "execution_count": 6,
     "metadata": {},
     "output_type": "execute_result"
    }
   ],
   "source": [
    "df_rawest.V880274.value_counts()"
   ]
  },
  {
   "cell_type": "code",
   "execution_count": 7,
   "metadata": {
    "collapsed": false
   },
   "outputs": [
    {
     "data": {
      "text/plain": [
       "1.0    359\n",
       "0.0    355\n",
       "5.0    281\n",
       "6.0    279\n",
       "4.0    270\n",
       "2.0    240\n",
       "3.0    215\n",
       "Name: PartyID, dtype: int64"
      ]
     },
     "execution_count": 7,
     "metadata": {},
     "output_type": "execute_result"
    }
   ],
   "source": [
    "df.PartyID.value_counts()"
   ]
  },
  {
   "cell_type": "code",
   "execution_count": 8,
   "metadata": {
    "collapsed": false
   },
   "outputs": [
    {
     "data": {
      "text/plain": [
       "4. BY LAW,WOMAN SHL    711\n",
       "2. ABORT PRMT RAPE     662\n",
       "3. ABORT PRMT OTHR     370\n",
       "1. ABORTN PRMT NEV     253\n",
       "8. DON-T KNOW           20\n",
       "9. NOT ASCERTAINED      15\n",
       "7. OTH,SPECIFY           9\n",
       "Name: V880395, dtype: int64"
      ]
     },
     "execution_count": 8,
     "metadata": {},
     "output_type": "execute_result"
    }
   ],
   "source": [
    "df_rawest.V880395.value_counts()"
   ]
  },
  {
   "cell_type": "code",
   "execution_count": 9,
   "metadata": {
    "collapsed": false
   },
   "outputs": [
    {
     "data": {
      "text/plain": [
       "-4.0    711\n",
       "-2.0    662\n",
       "-3.0    370\n",
       "-1.0    253\n",
       "Name: Abortion, dtype: int64"
      ]
     },
     "execution_count": 9,
     "metadata": {},
     "output_type": "execute_result"
    }
   ],
   "source": [
    "df.Abortion.value_counts()"
   ]
  },
  {
   "cell_type": "code",
   "execution_count": 10,
   "metadata": {
    "collapsed": false
   },
   "outputs": [
    {
     "data": {
      "text/html": [
       "<div>\n",
       "<table border=\"1\" class=\"dataframe\">\n",
       "  <thead>\n",
       "    <tr style=\"text-align: right;\">\n",
       "      <th></th>\n",
       "      <th>PartyID</th>\n",
       "      <th>Abortion</th>\n",
       "      <th>MoralRelativism</th>\n",
       "      <th>NewerLifestyles</th>\n",
       "      <th>MoralTolerance</th>\n",
       "      <th>TraditionalFamilies</th>\n",
       "      <th>GayJobDiscrimination</th>\n",
       "      <th>NationalHealthInsurance</th>\n",
       "      <th>StandardOfLiving</th>\n",
       "      <th>ServicesVsSpending</th>\n",
       "      <th>AffirmativeAction</th>\n",
       "      <th>RacialWorkWayUp</th>\n",
       "      <th>RacialDeserve</th>\n",
       "      <th>RacialTryHarder</th>\n",
       "      <th>RacialGenerational</th>\n",
       "    </tr>\n",
       "  </thead>\n",
       "  <tbody>\n",
       "    <tr>\n",
       "      <th>0</th>\n",
       "      <td>1.0</td>\n",
       "      <td>-1.0</td>\n",
       "      <td>2.0</td>\n",
       "      <td>-1.0</td>\n",
       "      <td>2.0</td>\n",
       "      <td>-1.0</td>\n",
       "      <td>5.0</td>\n",
       "      <td>2.0</td>\n",
       "      <td>2.0</td>\n",
       "      <td>-6.0</td>\n",
       "      <td>4.0</td>\n",
       "      <td>-1.0</td>\n",
       "      <td>4.0</td>\n",
       "      <td>-1.0</td>\n",
       "      <td>4.0</td>\n",
       "    </tr>\n",
       "    <tr>\n",
       "      <th>1</th>\n",
       "      <td>4.0</td>\n",
       "      <td>-4.0</td>\n",
       "      <td>NaN</td>\n",
       "      <td>-2.0</td>\n",
       "      <td>2.0</td>\n",
       "      <td>-2.0</td>\n",
       "      <td>5.0</td>\n",
       "      <td>NaN</td>\n",
       "      <td>NaN</td>\n",
       "      <td>-5.0</td>\n",
       "      <td>2.0</td>\n",
       "      <td>-1.0</td>\n",
       "      <td>4.0</td>\n",
       "      <td>-2.0</td>\n",
       "      <td>4.0</td>\n",
       "    </tr>\n",
       "    <tr>\n",
       "      <th>2</th>\n",
       "      <td>5.0</td>\n",
       "      <td>-4.0</td>\n",
       "      <td>NaN</td>\n",
       "      <td>NaN</td>\n",
       "      <td>NaN</td>\n",
       "      <td>NaN</td>\n",
       "      <td>NaN</td>\n",
       "      <td>7.0</td>\n",
       "      <td>5.0</td>\n",
       "      <td>-4.0</td>\n",
       "      <td>NaN</td>\n",
       "      <td>NaN</td>\n",
       "      <td>NaN</td>\n",
       "      <td>NaN</td>\n",
       "      <td>NaN</td>\n",
       "    </tr>\n",
       "    <tr>\n",
       "      <th>3</th>\n",
       "      <td>2.0</td>\n",
       "      <td>-2.0</td>\n",
       "      <td>5.0</td>\n",
       "      <td>-1.0</td>\n",
       "      <td>2.0</td>\n",
       "      <td>-2.0</td>\n",
       "      <td>1.0</td>\n",
       "      <td>3.0</td>\n",
       "      <td>3.0</td>\n",
       "      <td>-3.0</td>\n",
       "      <td>5.0</td>\n",
       "      <td>-4.0</td>\n",
       "      <td>2.0</td>\n",
       "      <td>-2.0</td>\n",
       "      <td>2.0</td>\n",
       "    </tr>\n",
       "    <tr>\n",
       "      <th>4</th>\n",
       "      <td>5.0</td>\n",
       "      <td>-2.0</td>\n",
       "      <td>NaN</td>\n",
       "      <td>-4.0</td>\n",
       "      <td>2.0</td>\n",
       "      <td>-2.0</td>\n",
       "      <td>1.0</td>\n",
       "      <td>6.0</td>\n",
       "      <td>4.0</td>\n",
       "      <td>-4.0</td>\n",
       "      <td>5.0</td>\n",
       "      <td>-4.0</td>\n",
       "      <td>4.0</td>\n",
       "      <td>-4.0</td>\n",
       "      <td>1.0</td>\n",
       "    </tr>\n",
       "  </tbody>\n",
       "</table>\n",
       "</div>"
      ],
      "text/plain": [
       "   PartyID  Abortion  MoralRelativism  NewerLifestyles  MoralTolerance  \\\n",
       "0      1.0      -1.0              2.0             -1.0             2.0   \n",
       "1      4.0      -4.0              NaN             -2.0             2.0   \n",
       "2      5.0      -4.0              NaN              NaN             NaN   \n",
       "3      2.0      -2.0              5.0             -1.0             2.0   \n",
       "4      5.0      -2.0              NaN             -4.0             2.0   \n",
       "\n",
       "   TraditionalFamilies  GayJobDiscrimination  NationalHealthInsurance  \\\n",
       "0                 -1.0                   5.0                      2.0   \n",
       "1                 -2.0                   5.0                      NaN   \n",
       "2                  NaN                   NaN                      7.0   \n",
       "3                 -2.0                   1.0                      3.0   \n",
       "4                 -2.0                   1.0                      6.0   \n",
       "\n",
       "   StandardOfLiving  ServicesVsSpending  AffirmativeAction  RacialWorkWayUp  \\\n",
       "0               2.0                -6.0                4.0             -1.0   \n",
       "1               NaN                -5.0                2.0             -1.0   \n",
       "2               5.0                -4.0                NaN              NaN   \n",
       "3               3.0                -3.0                5.0             -4.0   \n",
       "4               4.0                -4.0                5.0             -4.0   \n",
       "\n",
       "   RacialDeserve  RacialTryHarder  RacialGenerational  \n",
       "0            4.0             -1.0                 4.0  \n",
       "1            4.0             -2.0                 4.0  \n",
       "2            NaN              NaN                 NaN  \n",
       "3            2.0             -2.0                 2.0  \n",
       "4            4.0             -4.0                 1.0  "
      ]
     },
     "execution_count": 10,
     "metadata": {},
     "output_type": "execute_result"
    }
   ],
   "source": [
    "df.head()"
   ]
  },
  {
   "cell_type": "code",
   "execution_count": 11,
   "metadata": {
    "collapsed": true
   },
   "outputs": [],
   "source": [
    "df.to_csv(\"../data/processed/1988.csv\")"
   ]
  },
  {
   "cell_type": "code",
   "execution_count": null,
   "metadata": {
    "collapsed": true
   },
   "outputs": [],
   "source": []
  }
 ],
 "metadata": {
  "anaconda-cloud": {},
  "kernelspec": {
   "display_name": "Python [default]",
   "language": "python",
   "name": "python3"
  },
  "language_info": {
   "codemirror_mode": {
    "name": "ipython",
    "version": 3
   },
   "file_extension": ".py",
   "mimetype": "text/x-python",
   "name": "python",
   "nbconvert_exporter": "python",
   "pygments_lexer": "ipython3",
   "version": "3.5.2"
  }
 },
 "nbformat": 4,
 "nbformat_minor": 1
}
