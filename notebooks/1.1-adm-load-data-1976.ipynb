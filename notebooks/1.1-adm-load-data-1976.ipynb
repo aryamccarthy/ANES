{
 "cells": [
  {
   "cell_type": "code",
   "execution_count": null,
   "metadata": {
    "collapsed": true
   },
   "outputs": [],
   "source": [
    "%pylab --no-import-all inline"
   ]
  },
  {
   "cell_type": "markdown",
   "metadata": {
    "deletable": true,
    "editable": true
   },
   "source": [
    "# Load and preprocess 1976 data\n",
    "\n",
    "Time to start looking at other years!\n",
    "\n",
    "---"
   ]
  },
  {
   "cell_type": "code",
   "execution_count": 1,
   "metadata": {
    "collapsed": false,
    "deletable": true,
    "editable": true
   },
   "outputs": [
    {
     "name": "stdout",
     "output_type": "stream",
     "text": [
      "Populating the interactive namespace from numpy and matplotlib\n"
     ]
    }
   ],
   "source": [
    "import pandas as pd"
   ]
  },
  {
   "cell_type": "markdown",
   "metadata": {
    "deletable": true,
    "editable": true
   },
   "source": [
    "## Load the data.\n",
    "\n",
    "---\n",
    "\n",
    "If this fails, be sure that you've saved your own data in the prescribed location, then retry."
   ]
  },
  {
   "cell_type": "code",
   "execution_count": 2,
   "metadata": {
    "collapsed": false,
    "deletable": true,
    "editable": true
   },
   "outputs": [],
   "source": [
    "file = \"../data/interim/1976data.dta\"  \n",
    "# Matt Wilson converted the older Stata file to the one we use.\n",
    "df_rawest = pd.read_stata(file)"
   ]
  },
  {
   "cell_type": "code",
   "execution_count": 3,
   "metadata": {
    "collapsed": false,
    "deletable": true,
    "editable": true
   },
   "outputs": [],
   "source": [
    "good_columns = [\n",
    "    'V763168',  # DO YOU USUALLY THINK OF YOURSELF AS A REPUBLICAN, A DEMOCRAT, AN INDEPENDENT, OR WHAT?\n",
    "    'V763357',  # 1: keep military spending; 5: raise military spending\n",
    "    'V763353',  # Gov't should spend less, even if cutting health and education.\n",
    "    'V763273',  # Private vs public insurance\n",
    "    'V763911',  # FAVOR STRICT GUN CNTRL (1: favor)\n",
    "    'V763241',  # GOVT GUAR JOB/S.L  (1: guarantee)\n",
    "    'V763264',  # MNRTY GRP AID SCL (1: help)\n",
    "    'V763511',  # HOW OFTEN R ATND CHURCH (1: highest)\n",
    "    'V763796',  # OPIN:WHEN ALLOW ABORTION (1: never)\n",
    "    'V763384',  # Educational attainment (0: lowest, 17: highest)\n",
    "    'V763757',  # THE POOR ARE POOR BECAUSE THE AMERICAN WAY OF LIFE DOESN'T GIVE ALL PEOPLE AN EQUAL CHANCE? (1: agree)\n",
    "    'V763665',  # WHO DID YOU VOTE FOR IN THE ELECTION FOR PRESIDENT?\n",
    "    'V763174',  # SUMMARY-R'S PARTY ID\n",
    "]\n",
    "df_raw = df_rawest[good_columns]"
   ]
  },
  {
   "cell_type": "code",
   "execution_count": 4,
   "metadata": {
    "collapsed": false
   },
   "outputs": [],
   "source": [
    "def convert_to_int(s):\n",
    "    \"\"\"Turn ANES data entry into an integer.\n",
    "    \n",
    "    >>> convert_to_int(\"1. Govt should provide many fewer services\")\n",
    "    1\n",
    "    >>> convert_to_int(\"2\")\n",
    "    2\n",
    "    \"\"\"\n",
    "    try:\n",
    "        return int(s.partition('.')[0])\n",
    "    except ValueError:\n",
    "        warnings.warn(\"Couldn't convert: \"+s)\n",
    "        return np.nan\n",
    "    except AttributeError:\n",
    "        return s\n",
    "    \n",
    "def not_informative_to_nan(x):\n",
    "    \"\"\"Convert non-informative values to missing.\n",
    "    \n",
    "    ANES codes various non-answers as 8, 9, and 0.\n",
    "    For instance, if a question does not pertain to the \n",
    "    respondent.\n",
    "    \"\"\"\n",
    "    return np.nan if x in {8, 9, 0} else x\n",
    "\n",
    "\n",
    "def fix_V763168(x):\n",
    "    return x if x in {1, 2} else 3 if x == 5 else np.nan\n",
    "\n",
    "df = df_raw.applymap(convert_to_int)\n",
    "df.drop(['V763384', 'V763174'], axis='columns').applymap(not_informative_to_nan)  # Dropped because its info is different.\n",
    "df.V763384.apply(lambda x: np.nan if x > 20 else x)\n",
    "df.V763174.apply(lambda x: x if x in range(7) else np.nan)\n",
    "\n",
    "df.V763665.apply(lambda x: np.nan if x not in {1, 2} else x);"
   ]
  },
  {
   "cell_type": "code",
   "execution_count": 5,
   "metadata": {
    "collapsed": false
   },
   "outputs": [
    {
     "data": {
      "text/html": [
       "<div>\n",
       "<table border=\"1\" class=\"dataframe\">\n",
       "  <thead>\n",
       "    <tr style=\"text-align: right;\">\n",
       "      <th></th>\n",
       "      <th>V763168</th>\n",
       "      <th>V763357</th>\n",
       "      <th>V763353</th>\n",
       "      <th>V763273</th>\n",
       "      <th>V763911</th>\n",
       "      <th>V763241</th>\n",
       "      <th>V763264</th>\n",
       "      <th>V763511</th>\n",
       "      <th>V763796</th>\n",
       "      <th>V763384</th>\n",
       "      <th>V763757</th>\n",
       "      <th>V763665</th>\n",
       "      <th>V763174</th>\n",
       "    </tr>\n",
       "  </thead>\n",
       "  <tbody>\n",
       "    <tr>\n",
       "      <th>2243</th>\n",
       "      <td>1</td>\n",
       "      <td>5</td>\n",
       "      <td>5</td>\n",
       "      <td>0</td>\n",
       "      <td>0</td>\n",
       "      <td>0</td>\n",
       "      <td>3</td>\n",
       "      <td>2</td>\n",
       "      <td>0</td>\n",
       "      <td>12</td>\n",
       "      <td>0</td>\n",
       "      <td>0</td>\n",
       "      <td>5</td>\n",
       "    </tr>\n",
       "    <tr>\n",
       "      <th>2244</th>\n",
       "      <td>1</td>\n",
       "      <td>5</td>\n",
       "      <td>5</td>\n",
       "      <td>3</td>\n",
       "      <td>0</td>\n",
       "      <td>7</td>\n",
       "      <td>5</td>\n",
       "      <td>3</td>\n",
       "      <td>0</td>\n",
       "      <td>12</td>\n",
       "      <td>0</td>\n",
       "      <td>0</td>\n",
       "      <td>5</td>\n",
       "    </tr>\n",
       "    <tr>\n",
       "      <th>2245</th>\n",
       "      <td>1</td>\n",
       "      <td>5</td>\n",
       "      <td>5</td>\n",
       "      <td>2</td>\n",
       "      <td>1</td>\n",
       "      <td>7</td>\n",
       "      <td>6</td>\n",
       "      <td>1</td>\n",
       "      <td>1</td>\n",
       "      <td>12</td>\n",
       "      <td>4</td>\n",
       "      <td>1</td>\n",
       "      <td>5</td>\n",
       "    </tr>\n",
       "    <tr>\n",
       "      <th>2246</th>\n",
       "      <td>5</td>\n",
       "      <td>5</td>\n",
       "      <td>5</td>\n",
       "      <td>1</td>\n",
       "      <td>5</td>\n",
       "      <td>4</td>\n",
       "      <td>7</td>\n",
       "      <td>3</td>\n",
       "      <td>4</td>\n",
       "      <td>11</td>\n",
       "      <td>5</td>\n",
       "      <td>2</td>\n",
       "      <td>0</td>\n",
       "    </tr>\n",
       "    <tr>\n",
       "      <th>2247</th>\n",
       "      <td>3</td>\n",
       "      <td>5</td>\n",
       "      <td>5</td>\n",
       "      <td>7</td>\n",
       "      <td>1</td>\n",
       "      <td>7</td>\n",
       "      <td>6</td>\n",
       "      <td>3</td>\n",
       "      <td>4</td>\n",
       "      <td>12</td>\n",
       "      <td>5</td>\n",
       "      <td>1</td>\n",
       "      <td>3</td>\n",
       "    </tr>\n",
       "  </tbody>\n",
       "</table>\n",
       "</div>"
      ],
      "text/plain": [
       "      V763168  V763357  V763353  V763273  V763911  V763241  V763264  V763511  \\\n",
       "2243        1        5        5        0        0        0        3        2   \n",
       "2244        1        5        5        3        0        7        5        3   \n",
       "2245        1        5        5        2        1        7        6        1   \n",
       "2246        5        5        5        1        5        4        7        3   \n",
       "2247        3        5        5        7        1        7        6        3   \n",
       "\n",
       "      V763796  V763384  V763757  V763665  V763174  \n",
       "2243        0       12        0        0        5  \n",
       "2244        0       12        0        0        5  \n",
       "2245        1       12        4        1        5  \n",
       "2246        4       11        5        2        0  \n",
       "2247        4       12        5        1        3  "
      ]
     },
     "execution_count": 5,
     "metadata": {},
     "output_type": "execute_result"
    }
   ],
   "source": [
    "df.tail()"
   ]
  },
  {
   "cell_type": "code",
   "execution_count": 6,
   "metadata": {
    "collapsed": false
   },
   "outputs": [
    {
     "name": "stdout",
     "output_type": "stream",
     "text": [
      "Variables now available: df\n"
     ]
    }
   ],
   "source": [
    "print(\"Variables now available: df\")"
   ]
  },
  {
   "cell_type": "code",
   "execution_count": 7,
   "metadata": {
    "collapsed": true
   },
   "outputs": [],
   "source": [
    "df.to_csv(\"../data/processed/1976.csv\")"
   ]
  },
  {
   "cell_type": "code",
   "execution_count": null,
   "metadata": {
    "collapsed": true
   },
   "outputs": [],
   "source": []
  }
 ],
 "metadata": {
  "anaconda-cloud": {},
  "kernelspec": {
   "display_name": "Python [default]",
   "language": "python",
   "name": "python3"
  },
  "language_info": {
   "codemirror_mode": {
    "name": "ipython",
    "version": 3
   },
   "file_extension": ".py",
   "mimetype": "text/x-python",
   "name": "python",
   "nbconvert_exporter": "python",
   "pygments_lexer": "ipython3",
   "version": "3.5.3"
  }
 },
 "nbformat": 4,
 "nbformat_minor": 1
}
