{
 "cells": [
  {
   "cell_type": "markdown",
   "metadata": {
    "deletable": true,
    "editable": true
   },
   "source": [
    "# Load and preprocess 1996 data\n",
    "\n",
    "We will, over time, look over other years. Our current goal is to explore the features of a single year.\n",
    "\n",
    "---"
   ]
  },
  {
   "cell_type": "code",
   "execution_count": 1,
   "metadata": {
    "collapsed": false,
    "deletable": true,
    "editable": true
   },
   "outputs": [
    {
     "name": "stdout",
     "output_type": "stream",
     "text": [
      "Populating the interactive namespace from numpy and matplotlib\n"
     ]
    }
   ],
   "source": [
    "%pylab --no-import-all inline\n",
    "import pandas as pd"
   ]
  },
  {
   "cell_type": "markdown",
   "metadata": {
    "deletable": true,
    "editable": true
   },
   "source": [
    "## Load the data.\n",
    "\n",
    "---\n",
    "\n",
    "If this fails, be sure that you've saved your own data in the prescribed location, then retry."
   ]
  },
  {
   "cell_type": "code",
   "execution_count": 2,
   "metadata": {
    "collapsed": true
   },
   "outputs": [],
   "source": [
    "file = \"../data/interim/1996data.dta\"\n",
    "df_rawest = pd.read_stata(file)"
   ]
  },
  {
   "cell_type": "code",
   "execution_count": 3,
   "metadata": {
    "collapsed": false,
    "deletable": true,
    "editable": true
   },
   "outputs": [],
   "source": [
    "good_columns = [\n",
    "    'V960420',  # Party Identification\n",
    "    \n",
    "    'V960503',  #Abortion\n",
    "    'V961248',  #Moral Relativism\n",
    "    'V961247',  #“Newer Lifestyles”\n",
    "    'V961250',  #Moral Tolerance\n",
    "    'V961249',  #Traditional Families\n",
    "    'V961194',  #Gay Job Discrimination\n",
    "    'V961196',  # Gay and Armed Forces\n",
    "    \n",
    "    'V960479',  #National Health Insurance\n",
    "    'V960483',  #Guaranteed Job\n",
    "    'V960462',  #Services/Spending\n",
    "    \n",
    "    'V961268',  #Affirmative Action\n",
    "#    'V045193',  #Racial Resentment 1\n",
    "#    'V045194',  #Racial Resentment2\n",
    "#    'V045195',  #Racial Resentment3\n",
    "#    'V045196',  #Racial Resentment4\n",
    "]\n",
    "df_raw = df_rawest[good_columns]"
   ]
  },
  {
   "cell_type": "markdown",
   "metadata": {
    "deletable": true,
    "editable": true
   },
   "source": [
    "## Clean the data\n",
    "---"
   ]
  },
  {
   "cell_type": "code",
   "execution_count": 12,
   "metadata": {
    "collapsed": false,
    "deletable": true,
    "editable": true
   },
   "outputs": [],
   "source": [
    "def convert_to_int(s):\n",
    "    \"\"\"Turn ANES data entry into an integer.\n",
    "    \n",
    "    >>> convert_to_int(\"1. Govt should provide many fewer services\")\n",
    "    1\n",
    "    >>> convert_to_int(\"2\")\n",
    "    2\n",
    "    \"\"\"\n",
    "    try:\n",
    "        return int(s.partition('.')[0])\n",
    "    except ValueError:\n",
    "        warnings.warn(\"Couldn't convert: \"+s)\n",
    "        return np.nan\n",
    "    except AttributeError:\n",
    "        return s\n",
    "    \n",
    "def not_informative_to_nan(x):\n",
    "    \"\"\"Convert non-informative values to missing.\n",
    "    \n",
    "    ANES codes various non-answers as 8, 9, and 0.\n",
    "    For instance, if a question does not pertain to the \n",
    "    respondent.\n",
    "    \"\"\"\n",
    "    return np.nan if x in {8, 9, 0} else x\n",
    "\n",
    "df = df_raw.applymap(convert_to_int)\n",
    "non_pid_columns = list(df.columns)\n",
    "non_pid_columns.remove('V960420')\n",
    "non_pid_columns.remove('V960503')\n",
    "df[non_pid_columns] = df[non_pid_columns].applymap(not_informative_to_nan)\n",
    "\n",
    "df.loc[:, 'V960503'] = df.V960503.apply(lambda x: np.nan if x in {7, 8, 9, 0} else x)\n",
    "\n",
    "# Code so that liberal is higher numbers\n",
    "df.loc[:, 'V960420'] = df.V960420.apply(lambda x: np.nan if x >= 7 else -x)  # 7: other minor party, 8: apolitical, 9: NA\n",
    "\n",
    "df.loc[:, 'V961248'] = df.V961248.apply(lambda x: -x)  # 1: moral relativism, 5: no relativism\n",
    "df.loc[:, 'V961250'] = df.V961250.apply(lambda x: -x)  # Tolerance. 1: tolerance, 7: not\n",
    "df.loc[:, 'V961194'] = df.V961194.apply(lambda x: -x)  # protect gays against discrimination\n",
    "df.loc[:, 'V961196'] = df.V961196.apply(lambda x: -x)  # support gay and armed forces\n",
    "\n",
    "\n",
    "df.loc[:, 'V960479'] = df.V960479.apply(lambda x: -x)  # Gov't insurance?\n",
    "df.loc[:, 'V960483'] = df.V960483.apply(lambda x: -x)  # Gov't guaranteed job?\n",
    "\n",
    "df.loc[:, 'V961268'] = df.V961268.apply(lambda x: -x)  # affirmative action\n",
    "#df.loc[:, 'V045194'] = df.V045194.apply(lambda x: -x)  # Racial support\n",
    "#df.loc[:, 'V045195'] = df.V045195.apply(lambda x: -x)  # Systemic factors?\n",
    "\n",
    "df.rename(inplace=True, columns=dict(zip(\n",
    "    good_columns,\n",
    "    [\"PartyID\",\n",
    "    \n",
    "    \"Abortion\",\n",
    "    \"MoralRelativism\",\n",
    "    \"NewerLifestyles\",\n",
    "    \"MoralTolerance\",\n",
    "    \"TraditionalFamilies\",\n",
    "    \"GayJobDiscrimination\",\n",
    "    \"GayMilitaryService\",\n",
    "\n",
    "    \"NationalHealthInsurance\",\n",
    "    \"StandardOfLiving\",\n",
    "    \"ServicesVsSpending\",\n",
    "\n",
    "    \"AffirmativeAction\",\n",
    "    \"RacialResentment1\",\n",
    "    \"RacialResentment2\",\n",
    "    \"RacialResentment3\",\n",
    "    \"RacialResentment4\",\n",
    "    ]\n",
    ")))"
   ]
  },
  {
   "cell_type": "code",
   "execution_count": 13,
   "metadata": {
    "collapsed": false,
    "deletable": true,
    "editable": true
   },
   "outputs": [
    {
     "name": "stdout",
     "output_type": "stream",
     "text": [
      "Variables now available: df\n"
     ]
    }
   ],
   "source": [
    "print(\"Variables now available: df\")"
   ]
  },
  {
   "cell_type": "code",
   "execution_count": 14,
   "metadata": {
    "collapsed": false,
    "deletable": true,
    "editable": true
   },
   "outputs": [
    {
     "data": {
      "text/plain": [
       "1. Weak Democrat (1,5/8/9,0 in K1, K1a/b     334\n",
       "0. Strong Democrat (1,1,0 in K1, K1a/b,      329\n",
       "5. Weak Republican (2,5/8/9,0 in K1, K1a     257\n",
       "2. Independent-Democrat (3/4/5,0,5 in K1     233\n",
       "6. Strong Republican (2,1,0 in K1, K1a/b     214\n",
       "4. Independent-Republican (3/4/5,0,1 in      183\n",
       "3. Independent-Independent (3,0,3/8/9 in     145\n",
       "8. Apolitical (5,0,3/8/9 in K1, K1a/b, K      14\n",
       "9. NA (8/9,0,0 in K1, K1a/b, K1c)              4\n",
       "7. Other; minor party; refuses to say (4       1\n",
       "Name: V960420, dtype: int64"
      ]
     },
     "execution_count": 14,
     "metadata": {},
     "output_type": "execute_result"
    }
   ],
   "source": [
    "df_rawest.V960420.value_counts()"
   ]
  },
  {
   "cell_type": "code",
   "execution_count": 15,
   "metadata": {
    "collapsed": false
   },
   "outputs": [
    {
     "data": {
      "text/plain": [
       "-1.0    334\n",
       " 0.0    329\n",
       "-5.0    257\n",
       "-2.0    233\n",
       "-6.0    214\n",
       "-4.0    183\n",
       "-3.0    145\n",
       "Name: PartyID, dtype: int64"
      ]
     },
     "execution_count": 15,
     "metadata": {},
     "output_type": "execute_result"
    }
   ],
   "source": [
    "df.PartyID.value_counts()"
   ]
  },
  {
   "cell_type": "code",
   "execution_count": 16,
   "metadata": {
    "collapsed": false,
    "deletable": true,
    "editable": true
   },
   "outputs": [
    {
     "data": {
      "text/html": [
       "<div>\n",
       "<table border=\"1\" class=\"dataframe\">\n",
       "  <thead>\n",
       "    <tr style=\"text-align: right;\">\n",
       "      <th></th>\n",
       "      <th>PartyID</th>\n",
       "      <th>Abortion</th>\n",
       "      <th>MoralRelativism</th>\n",
       "      <th>NewerLifestyles</th>\n",
       "      <th>MoralTolerance</th>\n",
       "      <th>TraditionalFamilies</th>\n",
       "      <th>GayJobDiscrimination</th>\n",
       "      <th>GayMilitaryService</th>\n",
       "      <th>NationalHealthInsurance</th>\n",
       "      <th>StandardOfLiving</th>\n",
       "      <th>ServicesVsSpending</th>\n",
       "      <th>AffirmativeAction</th>\n",
       "    </tr>\n",
       "  </thead>\n",
       "  <tbody>\n",
       "    <tr>\n",
       "      <th>0</th>\n",
       "      <td>-3.0</td>\n",
       "      <td>2.0</td>\n",
       "      <td>-5.0</td>\n",
       "      <td>1.0</td>\n",
       "      <td>-2.0</td>\n",
       "      <td>2.0</td>\n",
       "      <td>-1.0</td>\n",
       "      <td>-5.0</td>\n",
       "      <td>NaN</td>\n",
       "      <td>-5.0</td>\n",
       "      <td>3.0</td>\n",
       "      <td>-1.0</td>\n",
       "    </tr>\n",
       "    <tr>\n",
       "      <th>1</th>\n",
       "      <td>-2.0</td>\n",
       "      <td>4.0</td>\n",
       "      <td>-1.0</td>\n",
       "      <td>1.0</td>\n",
       "      <td>-1.0</td>\n",
       "      <td>1.0</td>\n",
       "      <td>-1.0</td>\n",
       "      <td>-2.0</td>\n",
       "      <td>-4.0</td>\n",
       "      <td>-4.0</td>\n",
       "      <td>2.0</td>\n",
       "      <td>-4.0</td>\n",
       "    </tr>\n",
       "    <tr>\n",
       "      <th>2</th>\n",
       "      <td>-1.0</td>\n",
       "      <td>4.0</td>\n",
       "      <td>-2.0</td>\n",
       "      <td>3.0</td>\n",
       "      <td>-3.0</td>\n",
       "      <td>2.0</td>\n",
       "      <td>-4.0</td>\n",
       "      <td>-4.0</td>\n",
       "      <td>-3.0</td>\n",
       "      <td>-3.0</td>\n",
       "      <td>4.0</td>\n",
       "      <td>-4.0</td>\n",
       "    </tr>\n",
       "    <tr>\n",
       "      <th>3</th>\n",
       "      <td>-1.0</td>\n",
       "      <td>2.0</td>\n",
       "      <td>-2.0</td>\n",
       "      <td>2.0</td>\n",
       "      <td>-2.0</td>\n",
       "      <td>2.0</td>\n",
       "      <td>NaN</td>\n",
       "      <td>-4.0</td>\n",
       "      <td>-3.0</td>\n",
       "      <td>-4.0</td>\n",
       "      <td>2.0</td>\n",
       "      <td>-2.0</td>\n",
       "    </tr>\n",
       "    <tr>\n",
       "      <th>4</th>\n",
       "      <td>-3.0</td>\n",
       "      <td>4.0</td>\n",
       "      <td>-2.0</td>\n",
       "      <td>4.0</td>\n",
       "      <td>-3.0</td>\n",
       "      <td>3.0</td>\n",
       "      <td>-2.0</td>\n",
       "      <td>-1.0</td>\n",
       "      <td>-7.0</td>\n",
       "      <td>-6.0</td>\n",
       "      <td>1.0</td>\n",
       "      <td>-5.0</td>\n",
       "    </tr>\n",
       "  </tbody>\n",
       "</table>\n",
       "</div>"
      ],
      "text/plain": [
       "   PartyID  Abortion  MoralRelativism  NewerLifestyles  MoralTolerance  \\\n",
       "0     -3.0       2.0             -5.0              1.0            -2.0   \n",
       "1     -2.0       4.0             -1.0              1.0            -1.0   \n",
       "2     -1.0       4.0             -2.0              3.0            -3.0   \n",
       "3     -1.0       2.0             -2.0              2.0            -2.0   \n",
       "4     -3.0       4.0             -2.0              4.0            -3.0   \n",
       "\n",
       "   TraditionalFamilies  GayJobDiscrimination  GayMilitaryService  \\\n",
       "0                  2.0                  -1.0                -5.0   \n",
       "1                  1.0                  -1.0                -2.0   \n",
       "2                  2.0                  -4.0                -4.0   \n",
       "3                  2.0                   NaN                -4.0   \n",
       "4                  3.0                  -2.0                -1.0   \n",
       "\n",
       "   NationalHealthInsurance  StandardOfLiving  ServicesVsSpending  \\\n",
       "0                      NaN              -5.0                 3.0   \n",
       "1                     -4.0              -4.0                 2.0   \n",
       "2                     -3.0              -3.0                 4.0   \n",
       "3                     -3.0              -4.0                 2.0   \n",
       "4                     -7.0              -6.0                 1.0   \n",
       "\n",
       "   AffirmativeAction  \n",
       "0               -1.0  \n",
       "1               -4.0  \n",
       "2               -4.0  \n",
       "3               -2.0  \n",
       "4               -5.0  "
      ]
     },
     "execution_count": 16,
     "metadata": {},
     "output_type": "execute_result"
    }
   ],
   "source": [
    "df.head()"
   ]
  },
  {
   "cell_type": "code",
   "execution_count": 17,
   "metadata": {
    "collapsed": true
   },
   "outputs": [],
   "source": [
    "df.to_csv(\"../data/processed/1996.csv\")"
   ]
  },
  {
   "cell_type": "code",
   "execution_count": null,
   "metadata": {
    "collapsed": true
   },
   "outputs": [],
   "source": []
  }
 ],
 "metadata": {
  "anaconda-cloud": {},
  "kernelspec": {
   "display_name": "Python [default]",
   "language": "python",
   "name": "python3"
  },
  "language_info": {
   "codemirror_mode": {
    "name": "ipython",
    "version": 3
   },
   "file_extension": ".py",
   "mimetype": "text/x-python",
   "name": "python",
   "nbconvert_exporter": "python",
   "pygments_lexer": "ipython3",
   "version": "3.5.2"
  }
 },
 "nbformat": 4,
 "nbformat_minor": 1
}
