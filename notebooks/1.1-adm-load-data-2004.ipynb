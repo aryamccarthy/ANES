{
 "cells": [
  {
   "cell_type": "markdown",
   "metadata": {
    "deletable": true,
    "editable": true
   },
   "source": [
    "# Load and preprocess 2004 data\n",
    "\n",
    "We will, over time, look over other years. Our current goal is to explore the features of a single year.\n",
    "\n",
    "---"
   ]
  },
  {
   "cell_type": "code",
   "execution_count": 1,
   "metadata": {
    "collapsed": false,
    "deletable": true,
    "editable": true
   },
   "outputs": [
    {
     "name": "stdout",
     "output_type": "stream",
     "text": [
      "Populating the interactive namespace from numpy and matplotlib\n"
     ]
    }
   ],
   "source": [
    "%pylab --no-import-all inline\n",
    "import pandas as pd"
   ]
  },
  {
   "cell_type": "markdown",
   "metadata": {
    "deletable": true,
    "editable": true
   },
   "source": [
    "## Load the data.\n",
    "\n",
    "---\n",
    "\n",
    "If this fails, be sure that you've saved your own data in the prescribed location, then retry."
   ]
  },
  {
   "cell_type": "code",
   "execution_count": 11,
   "metadata": {
    "collapsed": true
   },
   "outputs": [],
   "source": [
    "file = \"../data/interim/2004data.dta\"\n",
    "df_rawest = pd.read_stata(file)"
   ]
  },
  {
   "cell_type": "code",
   "execution_count": 12,
   "metadata": {
    "collapsed": false,
    "deletable": true,
    "editable": true
   },
   "outputs": [],
   "source": [
    "good_columns = [\n",
    "    'V043116',  # Party Identification\n",
    "    \n",
    "    'V045132',  #Abortion\n",
    "    'V045189',  #Moral Relativism\n",
    "    'V045190',  #“Newer Lifestyles”\n",
    "    'V045191',  #Moral Tolerance\n",
    "    'V045192',  #Traditional Families\n",
    "    'V045156a',  #Gay Job Discrimination\n",
    "    'V045158',  # Gay adoption\n",
    "    \n",
    "    'V043150',  #National Health Insurance\n",
    "    'V043152',  #Guaranteed Job\n",
    "    'V045121',  #Services/Spending\n",
    "    \n",
    "    'V045207a',  #Affirmative Action\n",
    "    'V045193',  #Racial Resentment 1\n",
    "    'V045194',  #Racial Resentment2\n",
    "    'V045195',  #Racial Resentment3\n",
    "    'V045196',  #Racial Resentment4\n",
    "]\n",
    "df_raw = df_rawest[good_columns]"
   ]
  },
  {
   "cell_type": "markdown",
   "metadata": {
    "deletable": true,
    "editable": true
   },
   "source": [
    "## Clean the data\n",
    "---"
   ]
  },
  {
   "cell_type": "code",
   "execution_count": 20,
   "metadata": {
    "collapsed": false,
    "deletable": true,
    "editable": true
   },
   "outputs": [],
   "source": [
    "def convert_to_int(s):\n",
    "    \"\"\"Turn ANES data entry into an integer.\n",
    "    \n",
    "    >>> convert_to_int(\"1. Govt should provide many fewer services\")\n",
    "    1\n",
    "    >>> convert_to_int(\"2\")\n",
    "    2\n",
    "    \"\"\"\n",
    "    try:\n",
    "        return int(s.partition('.')[0])\n",
    "    except ValueError:\n",
    "        warnings.warn(\"Couldn't convert: \"+s)\n",
    "        return np.nan\n",
    "    except AttributeError:\n",
    "        return s\n",
    "    \n",
    "def not_informative_to_nan(x):\n",
    "    \"\"\"Convert non-informative values to missing.\n",
    "    \n",
    "    ANES codes various non-answers as 8, 9, and 0.\n",
    "    For instance, if a question does not pertain to the \n",
    "    respondent.\n",
    "    \"\"\"\n",
    "    return np.nan if x in {8, 9, 0} else x\n",
    "\n",
    "df = df_raw.applymap(convert_to_int)\n",
    "non_pid_columns = list(df.columns)\n",
    "non_pid_columns.remove('V043116')\n",
    "non_pid_columns.remove('V045132')\n",
    "df[non_pid_columns] = df[non_pid_columns].applymap(not_informative_to_nan)\n",
    "\n",
    "df.loc[:, 'V045132'] = df.V045132.apply(lambda x: np.nan if x in {7, 8, 9, 0} else x)  # Abortion is 1-4 and 7 is 'other'\n",
    "\n",
    "\n",
    "# Code so that liberal is higher numbers\n",
    "df.loc[:, 'V043116'] = df.V043116.apply(lambda x: np.nan if x >= 7 else -x)  # 7: other minor party, 8: apolitical, 9: NA\n",
    "\n",
    "df.loc[:, 'V045189'] = df.V045189.apply(lambda x: -x)  # 1: moral relativism, 5: no relativism\n",
    "df.loc[:, 'V045191'] = df.V045191.apply(lambda x: -x)  # Tolerance. 1: tolerance, 7: not\n",
    "df.loc[:, 'V045156a'] = df.V045156a.apply(lambda x: -x)  # protect gays against discrimination\n",
    "df.loc[:, 'V045158'] = df.V045158.apply(lambda x: -x)  # support gay adoption\n",
    "\n",
    "\n",
    "df.loc[:, 'V043150'] = df.V043150.apply(lambda x: -x)  # Gov't insurance?\n",
    "df.loc[:, 'V043152'] = df.V043152.apply(lambda x: -x)  # Gov't guaranteed job?\n",
    "\n",
    "df.loc[:, 'V045207a'] = df.V045207a.apply(lambda x: -x)  # affirmative action\n",
    "df.loc[:, 'V045194'] = df.V045194.apply(lambda x: -x)  # Racial support\n",
    "df.loc[:, 'V045195'] = df.V045195.apply(lambda x: -x)  # Systemic factors?\n",
    "\n",
    "df.rename(inplace=True, columns=dict(zip(\n",
    "    good_columns,\n",
    "    [\"PartyID\",\n",
    "    \n",
    "    \"Abortion\",\n",
    "    \"MoralRelativism\",\n",
    "    \"NewerLifestyles\",\n",
    "    \"MoralTolerance\",\n",
    "    \"TraditionalFamilies\",\n",
    "    \"GayJobDiscrimination\",\n",
    "    \"GayAdoption\",\n",
    "\n",
    "    \"NationalHealthInsurance\",\n",
    "    \"StandardOfLiving\",\n",
    "    \"ServicesVsSpending\",\n",
    "\n",
    "    \"AffirmativeAction\",\n",
    "    \"RacialResentment1\",\n",
    "    \"RacialResentment2\",\n",
    "    \"RacialResentment3\",\n",
    "    \"RacialResentment4\",\n",
    "    ]\n",
    ")))"
   ]
  },
  {
   "cell_type": "code",
   "execution_count": 21,
   "metadata": {
    "collapsed": false,
    "deletable": true,
    "editable": true
   },
   "outputs": [
    {
     "name": "stdout",
     "output_type": "stream",
     "text": [
      "Variables now available: df\n"
     ]
    }
   ],
   "source": [
    "print(\"Variables now available: df\")"
   ]
  },
  {
   "cell_type": "code",
   "execution_count": 22,
   "metadata": {
    "collapsed": false,
    "deletable": true,
    "editable": true
   },
   "outputs": [
    {
     "data": {
      "text/plain": [
       "2. Independent-Democrat (3-4-5/./5)        210\n",
       "0. Strong Democrat (2/1/.)                 203\n",
       "6. Strong Republican (1/1/.)               193\n",
       "1. Weak Democrat (2/5-8-9/.)               179\n",
       "5. Weak Republican (1/5-8-9/.)             154\n",
       "4. Independent-Republican (3-4-5/./1)      138\n",
       "3. Independent-Independent                 118\n",
       "9. DK (8/./.)                                8\n",
       "7. Other; minor party; refuses to say        5\n",
       "8. Apolitical (5/./3-8-9 if apolitical)      4\n",
       "Name: V043116, dtype: int64"
      ]
     },
     "execution_count": 22,
     "metadata": {},
     "output_type": "execute_result"
    }
   ],
   "source": [
    "df_rawest.V043116.value_counts()"
   ]
  },
  {
   "cell_type": "code",
   "execution_count": 24,
   "metadata": {
    "collapsed": false
   },
   "outputs": [
    {
     "data": {
      "text/plain": [
       "-2.0    210\n",
       " 0.0    203\n",
       "-6.0    193\n",
       "-1.0    179\n",
       "-5.0    154\n",
       "-4.0    138\n",
       "-3.0    118\n",
       "Name: PartyID, dtype: int64"
      ]
     },
     "execution_count": 24,
     "metadata": {},
     "output_type": "execute_result"
    }
   ],
   "source": [
    "df.PartyID.value_counts()"
   ]
  },
  {
   "cell_type": "code",
   "execution_count": 25,
   "metadata": {
    "collapsed": false,
    "deletable": true,
    "editable": true
   },
   "outputs": [
    {
     "data": {
      "text/html": [
       "<div>\n",
       "<table border=\"1\" class=\"dataframe\">\n",
       "  <thead>\n",
       "    <tr style=\"text-align: right;\">\n",
       "      <th></th>\n",
       "      <th>PartyID</th>\n",
       "      <th>Abortion</th>\n",
       "      <th>MoralRelativism</th>\n",
       "      <th>NewerLifestyles</th>\n",
       "      <th>MoralTolerance</th>\n",
       "      <th>TraditionalFamilies</th>\n",
       "      <th>GayJobDiscrimination</th>\n",
       "      <th>GayAdoption</th>\n",
       "      <th>NationalHealthInsurance</th>\n",
       "      <th>StandardOfLiving</th>\n",
       "      <th>ServicesVsSpending</th>\n",
       "      <th>AffirmativeAction</th>\n",
       "      <th>RacialResentment1</th>\n",
       "      <th>RacialResentment2</th>\n",
       "      <th>RacialResentment3</th>\n",
       "      <th>RacialResentment4</th>\n",
       "    </tr>\n",
       "  </thead>\n",
       "  <tbody>\n",
       "    <tr>\n",
       "      <th>0</th>\n",
       "      <td>-3.0</td>\n",
       "      <td>2.0</td>\n",
       "      <td>-2.0</td>\n",
       "      <td>3.0</td>\n",
       "      <td>-2.0</td>\n",
       "      <td>1.0</td>\n",
       "      <td>-1.0</td>\n",
       "      <td>-1.0</td>\n",
       "      <td>-7.0</td>\n",
       "      <td>-7.0</td>\n",
       "      <td>4.0</td>\n",
       "      <td>-5.0</td>\n",
       "      <td>1.0</td>\n",
       "      <td>-5.0</td>\n",
       "      <td>-2.0</td>\n",
       "      <td>1.0</td>\n",
       "    </tr>\n",
       "    <tr>\n",
       "      <th>1</th>\n",
       "      <td>-2.0</td>\n",
       "      <td>2.0</td>\n",
       "      <td>-2.0</td>\n",
       "      <td>2.0</td>\n",
       "      <td>-2.0</td>\n",
       "      <td>1.0</td>\n",
       "      <td>-1.0</td>\n",
       "      <td>-1.0</td>\n",
       "      <td>-2.0</td>\n",
       "      <td>-3.0</td>\n",
       "      <td>3.0</td>\n",
       "      <td>-4.0</td>\n",
       "      <td>2.0</td>\n",
       "      <td>-1.0</td>\n",
       "      <td>-2.0</td>\n",
       "      <td>2.0</td>\n",
       "    </tr>\n",
       "    <tr>\n",
       "      <th>2</th>\n",
       "      <td>-6.0</td>\n",
       "      <td>2.0</td>\n",
       "      <td>-5.0</td>\n",
       "      <td>2.0</td>\n",
       "      <td>-2.0</td>\n",
       "      <td>2.0</td>\n",
       "      <td>-2.0</td>\n",
       "      <td>-1.0</td>\n",
       "      <td>-4.0</td>\n",
       "      <td>-4.0</td>\n",
       "      <td>3.0</td>\n",
       "      <td>-4.0</td>\n",
       "      <td>2.0</td>\n",
       "      <td>-4.0</td>\n",
       "      <td>-3.0</td>\n",
       "      <td>2.0</td>\n",
       "    </tr>\n",
       "    <tr>\n",
       "      <th>3</th>\n",
       "      <td>-3.0</td>\n",
       "      <td>NaN</td>\n",
       "      <td>NaN</td>\n",
       "      <td>NaN</td>\n",
       "      <td>NaN</td>\n",
       "      <td>NaN</td>\n",
       "      <td>NaN</td>\n",
       "      <td>NaN</td>\n",
       "      <td>-1.0</td>\n",
       "      <td>-1.0</td>\n",
       "      <td>NaN</td>\n",
       "      <td>NaN</td>\n",
       "      <td>NaN</td>\n",
       "      <td>NaN</td>\n",
       "      <td>NaN</td>\n",
       "      <td>NaN</td>\n",
       "    </tr>\n",
       "    <tr>\n",
       "      <th>4</th>\n",
       "      <td>-6.0</td>\n",
       "      <td>2.0</td>\n",
       "      <td>-5.0</td>\n",
       "      <td>1.0</td>\n",
       "      <td>-3.0</td>\n",
       "      <td>1.0</td>\n",
       "      <td>-5.0</td>\n",
       "      <td>-5.0</td>\n",
       "      <td>-5.0</td>\n",
       "      <td>-6.0</td>\n",
       "      <td>4.0</td>\n",
       "      <td>-5.0</td>\n",
       "      <td>1.0</td>\n",
       "      <td>-5.0</td>\n",
       "      <td>-2.0</td>\n",
       "      <td>2.0</td>\n",
       "    </tr>\n",
       "  </tbody>\n",
       "</table>\n",
       "</div>"
      ],
      "text/plain": [
       "   PartyID  Abortion  MoralRelativism  NewerLifestyles  MoralTolerance  \\\n",
       "0     -3.0       2.0             -2.0              3.0            -2.0   \n",
       "1     -2.0       2.0             -2.0              2.0            -2.0   \n",
       "2     -6.0       2.0             -5.0              2.0            -2.0   \n",
       "3     -3.0       NaN              NaN              NaN             NaN   \n",
       "4     -6.0       2.0             -5.0              1.0            -3.0   \n",
       "\n",
       "   TraditionalFamilies  GayJobDiscrimination  GayAdoption  \\\n",
       "0                  1.0                  -1.0         -1.0   \n",
       "1                  1.0                  -1.0         -1.0   \n",
       "2                  2.0                  -2.0         -1.0   \n",
       "3                  NaN                   NaN          NaN   \n",
       "4                  1.0                  -5.0         -5.0   \n",
       "\n",
       "   NationalHealthInsurance  StandardOfLiving  ServicesVsSpending  \\\n",
       "0                     -7.0              -7.0                 4.0   \n",
       "1                     -2.0              -3.0                 3.0   \n",
       "2                     -4.0              -4.0                 3.0   \n",
       "3                     -1.0              -1.0                 NaN   \n",
       "4                     -5.0              -6.0                 4.0   \n",
       "\n",
       "   AffirmativeAction  RacialResentment1  RacialResentment2  RacialResentment3  \\\n",
       "0               -5.0                1.0               -5.0               -2.0   \n",
       "1               -4.0                2.0               -1.0               -2.0   \n",
       "2               -4.0                2.0               -4.0               -3.0   \n",
       "3                NaN                NaN                NaN                NaN   \n",
       "4               -5.0                1.0               -5.0               -2.0   \n",
       "\n",
       "   RacialResentment4  \n",
       "0                1.0  \n",
       "1                2.0  \n",
       "2                2.0  \n",
       "3                NaN  \n",
       "4                2.0  "
      ]
     },
     "execution_count": 25,
     "metadata": {},
     "output_type": "execute_result"
    }
   ],
   "source": [
    "df.head()"
   ]
  },
  {
   "cell_type": "code",
   "execution_count": 26,
   "metadata": {
    "collapsed": true
   },
   "outputs": [],
   "source": [
    "df.to_csv(\"../data/processed/2004.csv\")"
   ]
  },
  {
   "cell_type": "code",
   "execution_count": null,
   "metadata": {
    "collapsed": true
   },
   "outputs": [],
   "source": []
  }
 ],
 "metadata": {
  "anaconda-cloud": {},
  "kernelspec": {
   "display_name": "Python [default]",
   "language": "python",
   "name": "python3"
  },
  "language_info": {
   "codemirror_mode": {
    "name": "ipython",
    "version": 3
   },
   "file_extension": ".py",
   "mimetype": "text/x-python",
   "name": "python",
   "nbconvert_exporter": "python",
   "pygments_lexer": "ipython3",
   "version": "3.5.2"
  }
 },
 "nbformat": 4,
 "nbformat_minor": 1
}
