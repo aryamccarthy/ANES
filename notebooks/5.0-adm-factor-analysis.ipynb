{
 "cells": [
  {
   "cell_type": "code",
   "execution_count": 1,
   "metadata": {
    "collapsed": false
   },
   "outputs": [
    {
     "name": "stdout",
     "output_type": "stream",
     "text": [
      "Populating the interactive namespace from numpy and matplotlib\n"
     ]
    }
   ],
   "source": [
    "%pylab --no-import-all inline"
   ]
  },
  {
   "cell_type": "markdown",
   "metadata": {},
   "source": [
    "# Factor analysis"
   ]
  },
  {
   "cell_type": "code",
   "execution_count": 2,
   "metadata": {
    "collapsed": true
   },
   "outputs": [],
   "source": [
    "import pandas as pd\n",
    "from sklearn.decomposition import FactorAnalysis\n",
    "from sklearn.pipeline import Pipeline\n",
    "from sklearn.preprocessing import StandardScaler, Imputer"
   ]
  },
  {
   "cell_type": "code",
   "execution_count": 3,
   "metadata": {
    "collapsed": true
   },
   "outputs": [],
   "source": [
    "df = pd.read_csv(\"../data/processed/1976.csv\")"
   ]
  },
  {
   "cell_type": "code",
   "execution_count": 28,
   "metadata": {
    "collapsed": true
   },
   "outputs": [],
   "source": [
    "def factor_loadings(data, n_components):\n",
    "    fa = FactorAnalysis(n_components=n_components)\n",
    "    scl = StandardScaler()\n",
    "    imp = Imputer()\n",
    "    pipeline = Pipeline([('imp', imp), ('scl', scl), ('fa', fa)])\n",
    "    pipeline.fit(data)\n",
    "    return pd.DataFrame(fa.components_, columns=data.columns)"
   ]
  },
  {
   "cell_type": "code",
   "execution_count": 29,
   "metadata": {
    "collapsed": false
   },
   "outputs": [
    {
     "data": {
      "text/plain": [
       "array([[  7.38867666e-01,   1.06182744e+00,   7.23400625e-01, ...,\n",
       "          7.33466926e-17,   0.00000000e+00,  -8.78800959e-01],\n",
       "       [ -2.02746816e+00,   1.06182744e+00,   7.23400625e-01, ...,\n",
       "         -1.95667545e+00,   1.03068102e+00,   4.29796957e-02],\n",
       "       [  0.00000000e+00,   1.06182744e+00,   1.37127189e+00, ...,\n",
       "          6.85917646e-01,   1.03068102e+00,   9.64760350e-01],\n",
       "       ..., \n",
       "       [ -6.44300246e-01,   1.06182744e+00,   2.01914317e+00, ...,\n",
       "          6.85917646e-01,   1.03068102e+00,  -1.80058161e+00],\n",
       "       [ -6.44300246e-01,  -2.23252493e-01,  -2.87712640e-16, ...,\n",
       "          6.85917646e-01,   1.03068102e+00,  -8.78800959e-01],\n",
       "       [  7.38867666e-01,   1.06182744e+00,   7.55293543e-02, ...,\n",
       "         -6.35378903e-01,   0.00000000e+00,   9.64760350e-01]])"
      ]
     },
     "execution_count": 29,
     "metadata": {},
     "output_type": "execute_result"
    }
   ],
   "source": [
    "scl = StandardScaler()\n",
    "imp = Imputer()\n",
    "pipeline = Pipeline([('imp', imp), ('scl', scl)])\n",
    "pipeline.fit_transform(df)"
   ]
  },
  {
   "cell_type": "code",
   "execution_count": 30,
   "metadata": {
    "collapsed": false
   },
   "outputs": [
    {
     "data": {
      "text/html": [
       "<div>\n",
       "<table border=\"1\" class=\"dataframe\">\n",
       "  <thead>\n",
       "    <tr style=\"text-align: right;\">\n",
       "      <th></th>\n",
       "      <th>campfin_limcorp</th>\n",
       "      <th>pid_self</th>\n",
       "      <th>spsrvpr_ssself</th>\n",
       "      <th>defsppr_self</th>\n",
       "      <th>inspre_self</th>\n",
       "      <th>gun_control</th>\n",
       "      <th>guarpr_self</th>\n",
       "      <th>immig_policy</th>\n",
       "      <th>aidblack_self</th>\n",
       "      <th>envjob_self</th>\n",
       "      <th>...</th>\n",
       "      <th>budget_rdefctax</th>\n",
       "      <th>budget_rdefmil</th>\n",
       "      <th>patriot_amident</th>\n",
       "      <th>milln_milltax</th>\n",
       "      <th>budget_rdef250k</th>\n",
       "      <th>fairjob_opin</th>\n",
       "      <th>immigpo_jobs</th>\n",
       "      <th>wiretap_warrant</th>\n",
       "      <th>postvote_presvtwho</th>\n",
       "      <th>abortpre_4point</th>\n",
       "    </tr>\n",
       "  </thead>\n",
       "  <tbody>\n",
       "    <tr>\n",
       "      <th>0</th>\n",
       "      <td>-0.119546</td>\n",
       "      <td>-0.651090</td>\n",
       "      <td>-0.677743</td>\n",
       "      <td>-0.374797</td>\n",
       "      <td>-0.656127</td>\n",
       "      <td>-0.450832</td>\n",
       "      <td>-0.611186</td>\n",
       "      <td>-0.327860</td>\n",
       "      <td>-0.589327</td>\n",
       "      <td>-0.631120</td>\n",
       "      <td>...</td>\n",
       "      <td>-0.499079</td>\n",
       "      <td>-0.376671</td>\n",
       "      <td>-0.193466</td>\n",
       "      <td>-0.495819</td>\n",
       "      <td>0.408288</td>\n",
       "      <td>-0.475738</td>\n",
       "      <td>-0.195161</td>\n",
       "      <td>-0.121867</td>\n",
       "      <td>-0.695311</td>\n",
       "      <td>-0.308867</td>\n",
       "    </tr>\n",
       "    <tr>\n",
       "      <th>1</th>\n",
       "      <td>0.182095</td>\n",
       "      <td>-0.015433</td>\n",
       "      <td>-0.196996</td>\n",
       "      <td>0.450374</td>\n",
       "      <td>-0.007975</td>\n",
       "      <td>-0.008548</td>\n",
       "      <td>-0.172900</td>\n",
       "      <td>0.140036</td>\n",
       "      <td>-0.043748</td>\n",
       "      <td>0.018495</td>\n",
       "      <td>...</td>\n",
       "      <td>-0.004258</td>\n",
       "      <td>0.490552</td>\n",
       "      <td>0.230421</td>\n",
       "      <td>0.008678</td>\n",
       "      <td>-0.049209</td>\n",
       "      <td>0.009847</td>\n",
       "      <td>0.303533</td>\n",
       "      <td>0.097449</td>\n",
       "      <td>0.066055</td>\n",
       "      <td>0.255383</td>\n",
       "    </tr>\n",
       "    <tr>\n",
       "      <th>2</th>\n",
       "      <td>-0.274580</td>\n",
       "      <td>0.079691</td>\n",
       "      <td>0.088484</td>\n",
       "      <td>0.066816</td>\n",
       "      <td>0.092373</td>\n",
       "      <td>-0.057527</td>\n",
       "      <td>0.137098</td>\n",
       "      <td>0.100253</td>\n",
       "      <td>0.305749</td>\n",
       "      <td>-0.055171</td>\n",
       "      <td>...</td>\n",
       "      <td>-0.369523</td>\n",
       "      <td>0.063796</td>\n",
       "      <td>0.183826</td>\n",
       "      <td>-0.480734</td>\n",
       "      <td>0.417392</td>\n",
       "      <td>0.176099</td>\n",
       "      <td>0.064837</td>\n",
       "      <td>-0.054796</td>\n",
       "      <td>0.043216</td>\n",
       "      <td>-0.184052</td>\n",
       "    </tr>\n",
       "  </tbody>\n",
       "</table>\n",
       "<p>3 rows × 32 columns</p>\n",
       "</div>"
      ],
      "text/plain": [
       "   campfin_limcorp  pid_self  spsrvpr_ssself  defsppr_self  inspre_self  \\\n",
       "0        -0.119546 -0.651090       -0.677743     -0.374797    -0.656127   \n",
       "1         0.182095 -0.015433       -0.196996      0.450374    -0.007975   \n",
       "2        -0.274580  0.079691        0.088484      0.066816     0.092373   \n",
       "\n",
       "   gun_control  guarpr_self  immig_policy  aidblack_self  envjob_self  \\\n",
       "0    -0.450832    -0.611186     -0.327860      -0.589327    -0.631120   \n",
       "1    -0.008548    -0.172900      0.140036      -0.043748     0.018495   \n",
       "2    -0.057527     0.137098      0.100253       0.305749    -0.055171   \n",
       "\n",
       "        ...         budget_rdefctax  budget_rdefmil  patriot_amident  \\\n",
       "0       ...               -0.499079       -0.376671        -0.193466   \n",
       "1       ...               -0.004258        0.490552         0.230421   \n",
       "2       ...               -0.369523        0.063796         0.183826   \n",
       "\n",
       "   milln_milltax  budget_rdef250k  fairjob_opin  immigpo_jobs  \\\n",
       "0      -0.495819         0.408288     -0.475738     -0.195161   \n",
       "1       0.008678        -0.049209      0.009847      0.303533   \n",
       "2      -0.480734         0.417392      0.176099      0.064837   \n",
       "\n",
       "   wiretap_warrant  postvote_presvtwho  abortpre_4point  \n",
       "0        -0.121867           -0.695311        -0.308867  \n",
       "1         0.097449            0.066055         0.255383  \n",
       "2        -0.054796            0.043216        -0.184052  \n",
       "\n",
       "[3 rows x 32 columns]"
      ]
     },
     "execution_count": 30,
     "metadata": {},
     "output_type": "execute_result"
    }
   ],
   "source": [
    "factor_loadings(df, 3)"
   ]
  },
  {
   "cell_type": "code",
   "execution_count": null,
   "metadata": {
    "collapsed": true
   },
   "outputs": [],
   "source": []
  }
 ],
 "metadata": {
  "anaconda-cloud": {},
  "kernelspec": {
   "display_name": "Python [default]",
   "language": "python",
   "name": "python3"
  },
  "language_info": {
   "codemirror_mode": {
    "name": "ipython",
    "version": 3
   },
   "file_extension": ".py",
   "mimetype": "text/x-python",
   "name": "python",
   "nbconvert_exporter": "python",
   "pygments_lexer": "ipython3",
   "version": "3.5.3"
  }
 },
 "nbformat": 4,
 "nbformat_minor": 2
}
