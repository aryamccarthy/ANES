{
 "cells": [
  {
   "cell_type": "markdown",
   "metadata": {
    "deletable": true,
    "editable": true
   },
   "source": [
    "# Load and preprocess 2016 data\n",
    "\n",
    "We will, over time, look over other years. Our current goal is to explore the features of a single year.\n",
    "\n",
    "---"
   ]
  },
  {
   "cell_type": "code",
   "execution_count": 1,
   "metadata": {
    "collapsed": false,
    "deletable": true,
    "editable": true
   },
   "outputs": [
    {
     "name": "stdout",
     "output_type": "stream",
     "text": [
      "Populating the interactive namespace from numpy and matplotlib\n"
     ]
    }
   ],
   "source": [
    "%pylab --no-import-all inline\n",
    "import pandas as pd"
   ]
  },
  {
   "cell_type": "markdown",
   "metadata": {
    "deletable": true,
    "editable": true
   },
   "source": [
    "## Load the data.\n",
    "\n",
    "---\n",
    "\n",
    "If this fails, be sure that you've saved your own data in the prescribed location, then retry."
   ]
  },
  {
   "cell_type": "code",
   "execution_count": 2,
   "metadata": {
    "collapsed": false
   },
   "outputs": [],
   "source": [
    "file = \"../data/interim/2016data.dta\"\n",
    "df_rawest = pd.read_stata(file)"
   ]
  },
  {
   "cell_type": "code",
   "execution_count": 5,
   "metadata": {
    "collapsed": false,
    "deletable": true,
    "editable": true
   },
   "outputs": [],
   "source": [
    "good_columns = [#'campfin_limcorp', # \"Should gov be able to limit corporate contributions\"\n",
    "    'V161126',  # Your own party identification\n",
    "    \n",
    "    'V161232',  # Abortion\n",
    "    'V162207',  # Moral Relativism\n",
    "    'V162208',  # \"Newer\" lifetyles\n",
    "    'V162209',  # Moral tolerance\n",
    "    'V162210',  # Traditional Families\n",
    "    'V161229x',  # Gay Job Discrimination\n",
    "    'V161230',  # Gay Adoption\n",
    "    \n",
    "    'V161184',  # National health insurance\n",
    "    'V161189',  # Guaranteed Job\n",
    "    'V161178',  # Services/Spending\n",
    "]\n",
    "\n",
    "df_raw = df_rawest[good_columns]"
   ]
  },
  {
   "cell_type": "markdown",
   "metadata": {
    "deletable": true,
    "editable": true
   },
   "source": [
    "## Clean the data\n",
    "---"
   ]
  },
  {
   "cell_type": "code",
   "execution_count": 13,
   "metadata": {
    "collapsed": false,
    "deletable": true,
    "editable": true
   },
   "outputs": [],
   "source": [
    "def convert_to_int(s):\n",
    "    \"\"\"Turn ANES data entry into an integer.\n",
    "    \n",
    "    >>> convert_to_int(\"1. Govt should provide many fewer services\")\n",
    "    1\n",
    "    >>> convert_to_int(\"2\")\n",
    "    2\n",
    "    \"\"\"\n",
    "    try:\n",
    "        return int(s.partition('.')[0])\n",
    "    except ValueError:\n",
    "        warnings.warn(\"Couldn't convert: \"+s)\n",
    "        return np.nan\n",
    "    except AttributeError:\n",
    "        return s\n",
    "\n",
    "def negative_to_nan(value):\n",
    "    \"\"\"Convert negative values to missing.\n",
    "    \n",
    "    ANES codes various non-answers as negative numbers.\n",
    "    For instance, if a question does not pertain to the \n",
    "    respondent.\n",
    "    \"\"\"\n",
    "    return value if value >= 0 else np.nan\n",
    "\n",
    "def lib1_cons2_neutral3(x):\n",
    "    \"\"\"Rearrange questions where 3 is neutral.\"\"\"\n",
    "    return -3 + x if x != 1 else x\n",
    "\n",
    "def liblow_conshigh(x):\n",
    "    \"\"\"Reorder questions where the liberal response is low.\"\"\"\n",
    "    return -x\n",
    "\n",
    "df = df_raw.applymap(convert_to_int)\n",
    "df = df.applymap(negative_to_nan)\n",
    "\n",
    "df.rename(inplace=True, columns=dict(zip(\n",
    "    good_columns,\n",
    "    [\"PartyID\",\n",
    "    \n",
    "    \"Abortion\",\n",
    "    \"MoralRelativism\",\n",
    "    \"NewerLifestyles\",\n",
    "    \"MoralTolerance\",\n",
    "    \"TraditionalFamilies\",\n",
    "    \"GayJobDiscrimination\",\n",
    "    \"GayAdoption\",\n",
    "\n",
    "    \"NationalHealthInsurance\",\n",
    "    \"StandardOfLiving\",\n",
    "    \"ServicesVsSpending\",\n",
    "\n",
    "#    \"AffirmativeAction\",\n",
    "#    \"RacialResentment1\",\n",
    "#    \"RacialResentment2\",\n",
    "#    \"RacialResentment3\",\n",
    "#    \"RacialResentment4\",\n",
    "    ]\n",
    ")))\n",
    "\n",
    "df.PartyID = df.PartyID.apply(lambda x: np.nan if x == 99 else -x)\n",
    "df.Abortion = df.Abortion.apply(lambda x: np.nan if x not in {1, 2, 3, 4} else x)\n",
    "\n",
    "df.loc[:, 'MoralRelativism'] = df.MoralRelativism.apply(lambda x: -x)  # 1: moral relativism, 5: no relativism\n",
    "df.loc[:, 'MoralTolerance'] = df.MoralTolerance.apply(lambda x: -x)  # Tolerance. 1: tolerance, 7: not\n",
    "df.loc[:, 'GayJobDiscrimination'] = df.GayJobDiscrimination.apply(lambda x: -x)  # protect gays against discrimination\n",
    "df.loc[:, 'GayAdoption'] = df.GayAdoption.apply(lambda x: -x)  # support gay adoption\n",
    "\n",
    "\n",
    "df.loc[:, 'NationalHealthInsurance'] = df.NationalHealthInsurance.apply(lambda x: -x)  # Gov't insurance?\n",
    "df.loc[:, 'StandardOfLiving'] = df.StandardOfLiving.apply(lambda x: -x)  # Gov't guaranteed job?\n",
    "\n",
    "# df.loc[:, 'aa_work_x'] = df.aa_work_x.apply(lambda x: -x)  # affirmative action\n",
    "# df.loc[:, 'V045194'] = df.V045194.apply(lambda x: -x)  # Racial support\n",
    "# df.loc[:, 'V045195'] = df.V045195.apply(lambda x: -x)  # Systemic factors?\n",
    "\n"
   ]
  },
  {
   "cell_type": "code",
   "execution_count": 14,
   "metadata": {
    "collapsed": false,
    "deletable": true,
    "editable": true
   },
   "outputs": [
    {
     "name": "stdout",
     "output_type": "stream",
     "text": [
      "Variables now available: df\n"
     ]
    }
   ],
   "source": [
    "print(\"Variables now available: df\")"
   ]
  },
  {
   "cell_type": "code",
   "execution_count": 15,
   "metadata": {
    "collapsed": false,
    "deletable": true,
    "editable": true
   },
   "outputs": [
    {
     "data": {
      "text/plain": [
       "99. Haven't thought much about this (FTF ONLY: DO NOT PROBE)    944\n",
       "4. Moderate, middle of the road                                 895\n",
       "6. Conservative                                                 703\n",
       "5. Slightly conservative                                        508\n",
       "2. Liberal                                                      506\n",
       "3. Slightly liberal                                             380\n",
       "7. Extremely conservative                                       166\n",
       "1. Extremely liberal                                            146\n",
       "-9. Refused                                                      18\n",
       "-8. Don't know (FTF only)                                         5\n",
       "Name: V161126, dtype: int64"
      ]
     },
     "execution_count": 15,
     "metadata": {},
     "output_type": "execute_result"
    }
   ],
   "source": [
    "df_rawest.V161126.value_counts()"
   ]
  },
  {
   "cell_type": "code",
   "execution_count": 16,
   "metadata": {
    "collapsed": false
   },
   "outputs": [
    {
     "data": {
      "text/plain": [
       "-4.0    895\n",
       "-6.0    703\n",
       "-5.0    508\n",
       "-2.0    506\n",
       "-3.0    380\n",
       "-7.0    166\n",
       "-1.0    146\n",
       "Name: PartyID, dtype: int64"
      ]
     },
     "execution_count": 16,
     "metadata": {},
     "output_type": "execute_result"
    }
   ],
   "source": [
    "df.PartyID.value_counts()"
   ]
  },
  {
   "cell_type": "code",
   "execution_count": 18,
   "metadata": {
    "collapsed": false,
    "deletable": true,
    "editable": true
   },
   "outputs": [
    {
     "data": {
      "text/html": [
       "<div>\n",
       "<table border=\"1\" class=\"dataframe\">\n",
       "  <thead>\n",
       "    <tr style=\"text-align: right;\">\n",
       "      <th></th>\n",
       "      <th>PartyID</th>\n",
       "      <th>Abortion</th>\n",
       "      <th>MoralRelativism</th>\n",
       "      <th>NewerLifestyles</th>\n",
       "      <th>MoralTolerance</th>\n",
       "      <th>TraditionalFamilies</th>\n",
       "      <th>GayJobDiscrimination</th>\n",
       "      <th>GayAdoption</th>\n",
       "      <th>NationalHealthInsurance</th>\n",
       "      <th>StandardOfLiving</th>\n",
       "      <th>ServicesVsSpending</th>\n",
       "    </tr>\n",
       "  </thead>\n",
       "  <tbody>\n",
       "    <tr>\n",
       "      <th>0</th>\n",
       "      <td>NaN</td>\n",
       "      <td>2.0</td>\n",
       "      <td>-4.0</td>\n",
       "      <td>1.0</td>\n",
       "      <td>-4.0</td>\n",
       "      <td>2.0</td>\n",
       "      <td>-4.0</td>\n",
       "      <td>-2.0</td>\n",
       "      <td>-6.0</td>\n",
       "      <td>-7.0</td>\n",
       "      <td>99.0</td>\n",
       "    </tr>\n",
       "    <tr>\n",
       "      <th>1</th>\n",
       "      <td>-5.0</td>\n",
       "      <td>4.0</td>\n",
       "      <td>-1.0</td>\n",
       "      <td>3.0</td>\n",
       "      <td>-1.0</td>\n",
       "      <td>3.0</td>\n",
       "      <td>NaN</td>\n",
       "      <td>-2.0</td>\n",
       "      <td>-1.0</td>\n",
       "      <td>-4.0</td>\n",
       "      <td>4.0</td>\n",
       "    </tr>\n",
       "    <tr>\n",
       "      <th>2</th>\n",
       "      <td>NaN</td>\n",
       "      <td>2.0</td>\n",
       "      <td>-2.0</td>\n",
       "      <td>1.0</td>\n",
       "      <td>-2.0</td>\n",
       "      <td>3.0</td>\n",
       "      <td>-1.0</td>\n",
       "      <td>-1.0</td>\n",
       "      <td>-6.0</td>\n",
       "      <td>-7.0</td>\n",
       "      <td>99.0</td>\n",
       "    </tr>\n",
       "    <tr>\n",
       "      <th>3</th>\n",
       "      <td>NaN</td>\n",
       "      <td>3.0</td>\n",
       "      <td>-4.0</td>\n",
       "      <td>2.0</td>\n",
       "      <td>-2.0</td>\n",
       "      <td>1.0</td>\n",
       "      <td>-1.0</td>\n",
       "      <td>-2.0</td>\n",
       "      <td>-6.0</td>\n",
       "      <td>-5.0</td>\n",
       "      <td>3.0</td>\n",
       "    </tr>\n",
       "    <tr>\n",
       "      <th>4</th>\n",
       "      <td>-4.0</td>\n",
       "      <td>4.0</td>\n",
       "      <td>-2.0</td>\n",
       "      <td>2.0</td>\n",
       "      <td>-3.0</td>\n",
       "      <td>2.0</td>\n",
       "      <td>-4.0</td>\n",
       "      <td>-1.0</td>\n",
       "      <td>-1.0</td>\n",
       "      <td>-7.0</td>\n",
       "      <td>99.0</td>\n",
       "    </tr>\n",
       "  </tbody>\n",
       "</table>\n",
       "</div>"
      ],
      "text/plain": [
       "   PartyID  Abortion  MoralRelativism  NewerLifestyles  MoralTolerance  \\\n",
       "0      NaN       2.0             -4.0              1.0            -4.0   \n",
       "1     -5.0       4.0             -1.0              3.0            -1.0   \n",
       "2      NaN       2.0             -2.0              1.0            -2.0   \n",
       "3      NaN       3.0             -4.0              2.0            -2.0   \n",
       "4     -4.0       4.0             -2.0              2.0            -3.0   \n",
       "\n",
       "   TraditionalFamilies  GayJobDiscrimination  GayAdoption  \\\n",
       "0                  2.0                  -4.0         -2.0   \n",
       "1                  3.0                   NaN         -2.0   \n",
       "2                  3.0                  -1.0         -1.0   \n",
       "3                  1.0                  -1.0         -2.0   \n",
       "4                  2.0                  -4.0         -1.0   \n",
       "\n",
       "   NationalHealthInsurance  StandardOfLiving  ServicesVsSpending  \n",
       "0                     -6.0              -7.0                99.0  \n",
       "1                     -1.0              -4.0                 4.0  \n",
       "2                     -6.0              -7.0                99.0  \n",
       "3                     -6.0              -5.0                 3.0  \n",
       "4                     -1.0              -7.0                99.0  "
      ]
     },
     "execution_count": 18,
     "metadata": {},
     "output_type": "execute_result"
    }
   ],
   "source": [
    "df.head()"
   ]
  },
  {
   "cell_type": "code",
   "execution_count": 17,
   "metadata": {
    "collapsed": true
   },
   "outputs": [],
   "source": [
    "df.to_csv(\"../data/processed/2016.csv\")"
   ]
  },
  {
   "cell_type": "code",
   "execution_count": null,
   "metadata": {
    "collapsed": true
   },
   "outputs": [],
   "source": []
  }
 ],
 "metadata": {
  "anaconda-cloud": {},
  "kernelspec": {
   "display_name": "Python [default]",
   "language": "python",
   "name": "python3"
  },
  "language_info": {
   "codemirror_mode": {
    "name": "ipython",
    "version": 3
   },
   "file_extension": ".py",
   "mimetype": "text/x-python",
   "name": "python",
   "nbconvert_exporter": "python",
   "pygments_lexer": "ipython3",
   "version": "3.5.2"
  }
 },
 "nbformat": 4,
 "nbformat_minor": 1
}
