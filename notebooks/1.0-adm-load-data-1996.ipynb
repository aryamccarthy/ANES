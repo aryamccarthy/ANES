{
 "cells": [
  {
   "cell_type": "markdown",
   "metadata": {
    "deletable": true,
    "editable": true
   },
   "source": [
    "# Load and preprocess 1996 data\n",
    "\n",
    "We will, over time, look over other years. Our current goal is to explore the features of a single year.\n",
    "\n",
    "---"
   ]
  },
  {
   "cell_type": "code",
   "execution_count": 1,
   "metadata": {
    "collapsed": false,
    "deletable": true,
    "editable": true
   },
   "outputs": [
    {
     "name": "stdout",
     "output_type": "stream",
     "text": [
      "Populating the interactive namespace from numpy and matplotlib\n"
     ]
    }
   ],
   "source": [
    "%pylab --no-import-all inline\n",
    "import pandas as pd"
   ]
  },
  {
   "cell_type": "markdown",
   "metadata": {
    "deletable": true,
    "editable": true
   },
   "source": [
    "## Load the data.\n",
    "\n",
    "---\n",
    "\n",
    "If this fails, be sure that you've saved your own data in the prescribed location, then retry."
   ]
  },
  {
   "cell_type": "code",
   "execution_count": 2,
   "metadata": {
    "collapsed": true
   },
   "outputs": [],
   "source": [
    "file = \"../data/interim/1996data.dta\"\n",
    "df_rawest = pd.read_stata(file)"
   ]
  },
  {
   "cell_type": "code",
   "execution_count": 3,
   "metadata": {
    "collapsed": false,
    "deletable": true,
    "editable": true
   },
   "outputs": [],
   "source": [
    "good_columns = [\n",
    "    'V960420',  # Party Identification\n",
    "    \n",
    "    'V960503',  #Abortion\n",
    "    'V961248',  #Moral Relativism\n",
    "    'V961247',  #“Newer Lifestyles”\n",
    "    'V961250',  #Moral Tolerance\n",
    "    'V961249',  #Traditional Families\n",
    "    'V961194',  #Gay Job Discrimination\n",
    "    'V961196',  # Gay and Armed Forces\n",
    "    \n",
    "    'V960479',  #National Health Insurance\n",
    "    'V960483',  #Guaranteed Job\n",
    "    'V960450',  #Services/Spending\n",
    "    \n",
    "    'V961268',  #Affirmative Action\n",
    "#    'V045193',  #Racial Resentment 1\n",
    "#    'V045194',  #Racial Resentment2\n",
    "#    'V045195',  #Racial Resentment3\n",
    "#    'V045196',  #Racial Resentment4\n",
    "]\n",
    "df_raw = df_rawest[good_columns]"
   ]
  },
  {
   "cell_type": "markdown",
   "metadata": {
    "deletable": true,
    "editable": true
   },
   "source": [
    "## Clean the data\n",
    "---"
   ]
  },
  {
   "cell_type": "code",
   "execution_count": 4,
   "metadata": {
    "collapsed": false,
    "deletable": true,
    "editable": true
   },
   "outputs": [],
   "source": [
    "def convert_to_int(s):\n",
    "    \"\"\"Turn ANES data entry into an integer.\n",
    "    \n",
    "    >>> convert_to_int(\"1. Govt should provide many fewer services\")\n",
    "    1\n",
    "    >>> convert_to_int(\"2\")\n",
    "    2\n",
    "    \"\"\"\n",
    "    try:\n",
    "        return int(s.partition('.')[0])\n",
    "    except ValueError:\n",
    "        warnings.warn(\"Couldn't convert: \"+s)\n",
    "        return np.nan\n",
    "    except AttributeError:\n",
    "        return s\n",
    "    \n",
    "def not_informative_to_nan(x):\n",
    "    \"\"\"Convert non-informative values to missing.\n",
    "    \n",
    "    ANES codes various non-answers as 8, 9, and 0.\n",
    "    For instance, if a question does not pertain to the \n",
    "    respondent.\n",
    "    \"\"\"\n",
    "    return np.nan if x in {8, 9, 0} else x\n",
    "\n",
    "df = df_raw.applymap(convert_to_int)\n",
    "\n",
    "df.rename(inplace=True, columns=dict(zip(\n",
    "    good_columns,\n",
    "    [\"PartyID\",\n",
    "    \n",
    "    \"Abortion\",\n",
    "    \"MoralRelativism\",\n",
    "    \"NewerLifestyles\",\n",
    "    \"MoralTolerance\",\n",
    "    \"TraditionalFamilies\",\n",
    "    \"GayJobDiscrimination\",\n",
    "    \"GayMilitaryService\",\n",
    "\n",
    "    \"NationalHealthInsurance\",\n",
    "    \"StandardOfLiving\",\n",
    "    \"ServicesVsSpending\",\n",
    "\n",
    "    \"AffirmativeAction\",\n",
    "    \"RacialWorkWayUp\",\n",
    "    \"RacialDeserve\",\n",
    "    \"RacialTryHarder\",\n",
    "    \"RacialGenerational\",\n",
    "    ]\n",
    ")))\n",
    "\n",
    "non_pid_columns = list(df.columns)\n",
    "non_pid_columns.remove('PartyID')\n",
    "df[non_pid_columns] = df[non_pid_columns].applymap(not_informative_to_nan)\n",
    "\n",
    "# Code so that liberal is lower numbers\n",
    "df.loc[:, 'PartyID'] = df.PartyID.apply(lambda x: np.nan if x >= 7 else x)  # 7: other minor party, 8: apolitical, 9: NA\n",
    "\n",
    "df.loc[:, 'Abortion'] = df.Abortion.apply(lambda x: np.nan if x in {7, 8, 9, 0} else -x)\n",
    "\n",
    "\n",
    "df.loc[:, 'NewerLifestyles'] = df.NewerLifestyles.apply(lambda x: -x)  # Tolerance. 1: tolerance, 7: not\n",
    "df.loc[:, 'TraditionalFamilies'] = df.TraditionalFamilies.apply(lambda x: -x)  # 1: moral relativism, 5: no relativism\n",
    "\n",
    "df.loc[:, 'ServicesVsSpending'] = df.ServicesVsSpending.apply(lambda x: -x)  # Gov't insurance?"
   ]
  },
  {
   "cell_type": "code",
   "execution_count": 5,
   "metadata": {
    "collapsed": false,
    "deletable": true,
    "editable": true
   },
   "outputs": [
    {
     "name": "stdout",
     "output_type": "stream",
     "text": [
      "Variables now available: df\n"
     ]
    }
   ],
   "source": [
    "print(\"Variables now available: df\")"
   ]
  },
  {
   "cell_type": "code",
   "execution_count": 6,
   "metadata": {
    "collapsed": false,
    "deletable": true,
    "editable": true
   },
   "outputs": [
    {
     "data": {
      "text/plain": [
       "1. Weak Democrat (1,5/8/9,0 in K1, K1a/b     334\n",
       "0. Strong Democrat (1,1,0 in K1, K1a/b,      329\n",
       "5. Weak Republican (2,5/8/9,0 in K1, K1a     257\n",
       "2. Independent-Democrat (3/4/5,0,5 in K1     233\n",
       "6. Strong Republican (2,1,0 in K1, K1a/b     214\n",
       "4. Independent-Republican (3/4/5,0,1 in      183\n",
       "3. Independent-Independent (3,0,3/8/9 in     145\n",
       "8. Apolitical (5,0,3/8/9 in K1, K1a/b, K      14\n",
       "9. NA (8/9,0,0 in K1, K1a/b, K1c)              4\n",
       "7. Other; minor party; refuses to say (4       1\n",
       "Name: V960420, dtype: int64"
      ]
     },
     "execution_count": 6,
     "metadata": {},
     "output_type": "execute_result"
    }
   ],
   "source": [
    "df_rawest.V960420.value_counts()"
   ]
  },
  {
   "cell_type": "code",
   "execution_count": 7,
   "metadata": {
    "collapsed": false
   },
   "outputs": [
    {
     "data": {
      "text/plain": [
       "1.0    334\n",
       "0.0    329\n",
       "5.0    257\n",
       "2.0    233\n",
       "6.0    214\n",
       "4.0    183\n",
       "3.0    145\n",
       "Name: PartyID, dtype: int64"
      ]
     },
     "execution_count": 7,
     "metadata": {},
     "output_type": "execute_result"
    }
   ],
   "source": [
    "df.PartyID.value_counts()"
   ]
  },
  {
   "cell_type": "code",
   "execution_count": 10,
   "metadata": {
    "collapsed": false
   },
   "outputs": [
    {
     "data": {
      "text/html": [
       "<div>\n",
       "<table border=\"1\" class=\"dataframe\">\n",
       "  <thead>\n",
       "    <tr style=\"text-align: right;\">\n",
       "      <th></th>\n",
       "      <th>PartyID</th>\n",
       "      <th>Abortion</th>\n",
       "      <th>MoralRelativism</th>\n",
       "      <th>NewerLifestyles</th>\n",
       "      <th>MoralTolerance</th>\n",
       "      <th>TraditionalFamilies</th>\n",
       "      <th>GayJobDiscrimination</th>\n",
       "      <th>GayMilitaryService</th>\n",
       "      <th>NationalHealthInsurance</th>\n",
       "      <th>StandardOfLiving</th>\n",
       "      <th>ServicesVsSpending</th>\n",
       "      <th>AffirmativeAction</th>\n",
       "    </tr>\n",
       "  </thead>\n",
       "  <tbody>\n",
       "    <tr>\n",
       "      <th>count</th>\n",
       "      <td>1695.000000</td>\n",
       "      <td>1679.000000</td>\n",
       "      <td>1526.000000</td>\n",
       "      <td>1519.000000</td>\n",
       "      <td>1522.000000</td>\n",
       "      <td>1524.000000</td>\n",
       "      <td>1436.000000</td>\n",
       "      <td>1480.000000</td>\n",
       "      <td>1536.000000</td>\n",
       "      <td>1553.000000</td>\n",
       "      <td>1466.000000</td>\n",
       "      <td>1412.000000</td>\n",
       "    </tr>\n",
       "    <tr>\n",
       "      <th>mean</th>\n",
       "      <td>2.676106</td>\n",
       "      <td>-2.889815</td>\n",
       "      <td>3.292267</td>\n",
       "      <td>-2.221198</td>\n",
       "      <td>2.621551</td>\n",
       "      <td>-1.729659</td>\n",
       "      <td>2.552925</td>\n",
       "      <td>2.429730</td>\n",
       "      <td>3.965495</td>\n",
       "      <td>4.462331</td>\n",
       "      <td>-3.892224</td>\n",
       "      <td>2.934136</td>\n",
       "    </tr>\n",
       "    <tr>\n",
       "      <th>std</th>\n",
       "      <td>2.102619</td>\n",
       "      <td>1.088080</td>\n",
       "      <td>1.336413</td>\n",
       "      <td>1.160300</td>\n",
       "      <td>1.211389</td>\n",
       "      <td>0.937516</td>\n",
       "      <td>1.639023</td>\n",
       "      <td>1.651662</td>\n",
       "      <td>1.877897</td>\n",
       "      <td>1.737260</td>\n",
       "      <td>1.514204</td>\n",
       "      <td>1.737336</td>\n",
       "    </tr>\n",
       "    <tr>\n",
       "      <th>min</th>\n",
       "      <td>0.000000</td>\n",
       "      <td>-4.000000</td>\n",
       "      <td>1.000000</td>\n",
       "      <td>-5.000000</td>\n",
       "      <td>1.000000</td>\n",
       "      <td>-5.000000</td>\n",
       "      <td>1.000000</td>\n",
       "      <td>1.000000</td>\n",
       "      <td>1.000000</td>\n",
       "      <td>1.000000</td>\n",
       "      <td>-7.000000</td>\n",
       "      <td>1.000000</td>\n",
       "    </tr>\n",
       "    <tr>\n",
       "      <th>25%</th>\n",
       "      <td>1.000000</td>\n",
       "      <td>-4.000000</td>\n",
       "      <td>2.000000</td>\n",
       "      <td>-3.000000</td>\n",
       "      <td>2.000000</td>\n",
       "      <td>-2.000000</td>\n",
       "      <td>1.000000</td>\n",
       "      <td>1.000000</td>\n",
       "      <td>2.000000</td>\n",
       "      <td>3.000000</td>\n",
       "      <td>-5.000000</td>\n",
       "      <td>1.000000</td>\n",
       "    </tr>\n",
       "    <tr>\n",
       "      <th>50%</th>\n",
       "      <td>2.000000</td>\n",
       "      <td>-3.000000</td>\n",
       "      <td>4.000000</td>\n",
       "      <td>-2.000000</td>\n",
       "      <td>2.000000</td>\n",
       "      <td>-1.000000</td>\n",
       "      <td>2.000000</td>\n",
       "      <td>2.000000</td>\n",
       "      <td>4.000000</td>\n",
       "      <td>5.000000</td>\n",
       "      <td>-4.000000</td>\n",
       "      <td>2.000000</td>\n",
       "    </tr>\n",
       "    <tr>\n",
       "      <th>75%</th>\n",
       "      <td>5.000000</td>\n",
       "      <td>-2.000000</td>\n",
       "      <td>4.000000</td>\n",
       "      <td>-1.000000</td>\n",
       "      <td>4.000000</td>\n",
       "      <td>-1.000000</td>\n",
       "      <td>4.000000</td>\n",
       "      <td>4.000000</td>\n",
       "      <td>5.000000</td>\n",
       "      <td>6.000000</td>\n",
       "      <td>-3.000000</td>\n",
       "      <td>5.000000</td>\n",
       "    </tr>\n",
       "    <tr>\n",
       "      <th>max</th>\n",
       "      <td>6.000000</td>\n",
       "      <td>-1.000000</td>\n",
       "      <td>5.000000</td>\n",
       "      <td>-1.000000</td>\n",
       "      <td>5.000000</td>\n",
       "      <td>-1.000000</td>\n",
       "      <td>5.000000</td>\n",
       "      <td>5.000000</td>\n",
       "      <td>7.000000</td>\n",
       "      <td>7.000000</td>\n",
       "      <td>-1.000000</td>\n",
       "      <td>5.000000</td>\n",
       "    </tr>\n",
       "  </tbody>\n",
       "</table>\n",
       "</div>"
      ],
      "text/plain": [
       "           PartyID     Abortion  MoralRelativism  NewerLifestyles  \\\n",
       "count  1695.000000  1679.000000      1526.000000      1519.000000   \n",
       "mean      2.676106    -2.889815         3.292267        -2.221198   \n",
       "std       2.102619     1.088080         1.336413         1.160300   \n",
       "min       0.000000    -4.000000         1.000000        -5.000000   \n",
       "25%       1.000000    -4.000000         2.000000        -3.000000   \n",
       "50%       2.000000    -3.000000         4.000000        -2.000000   \n",
       "75%       5.000000    -2.000000         4.000000        -1.000000   \n",
       "max       6.000000    -1.000000         5.000000        -1.000000   \n",
       "\n",
       "       MoralTolerance  TraditionalFamilies  GayJobDiscrimination  \\\n",
       "count     1522.000000          1524.000000           1436.000000   \n",
       "mean         2.621551            -1.729659              2.552925   \n",
       "std          1.211389             0.937516              1.639023   \n",
       "min          1.000000            -5.000000              1.000000   \n",
       "25%          2.000000            -2.000000              1.000000   \n",
       "50%          2.000000            -1.000000              2.000000   \n",
       "75%          4.000000            -1.000000              4.000000   \n",
       "max          5.000000            -1.000000              5.000000   \n",
       "\n",
       "       GayMilitaryService  NationalHealthInsurance  StandardOfLiving  \\\n",
       "count         1480.000000              1536.000000       1553.000000   \n",
       "mean             2.429730                 3.965495          4.462331   \n",
       "std              1.651662                 1.877897          1.737260   \n",
       "min              1.000000                 1.000000          1.000000   \n",
       "25%              1.000000                 2.000000          3.000000   \n",
       "50%              2.000000                 4.000000          5.000000   \n",
       "75%              4.000000                 5.000000          6.000000   \n",
       "max              5.000000                 7.000000          7.000000   \n",
       "\n",
       "       ServicesVsSpending  AffirmativeAction  \n",
       "count         1466.000000        1412.000000  \n",
       "mean            -3.892224           2.934136  \n",
       "std              1.514204           1.737336  \n",
       "min             -7.000000           1.000000  \n",
       "25%             -5.000000           1.000000  \n",
       "50%             -4.000000           2.000000  \n",
       "75%             -3.000000           5.000000  \n",
       "max             -1.000000           5.000000  "
      ]
     },
     "execution_count": 10,
     "metadata": {},
     "output_type": "execute_result"
    }
   ],
   "source": [
    "df.describe()"
   ]
  },
  {
   "cell_type": "code",
   "execution_count": 8,
   "metadata": {
    "collapsed": false,
    "deletable": true,
    "editable": true
   },
   "outputs": [
    {
     "data": {
      "text/html": [
       "<div>\n",
       "<table border=\"1\" class=\"dataframe\">\n",
       "  <thead>\n",
       "    <tr style=\"text-align: right;\">\n",
       "      <th></th>\n",
       "      <th>PartyID</th>\n",
       "      <th>Abortion</th>\n",
       "      <th>MoralRelativism</th>\n",
       "      <th>NewerLifestyles</th>\n",
       "      <th>MoralTolerance</th>\n",
       "      <th>TraditionalFamilies</th>\n",
       "      <th>GayJobDiscrimination</th>\n",
       "      <th>GayMilitaryService</th>\n",
       "      <th>NationalHealthInsurance</th>\n",
       "      <th>StandardOfLiving</th>\n",
       "      <th>ServicesVsSpending</th>\n",
       "      <th>AffirmativeAction</th>\n",
       "    </tr>\n",
       "  </thead>\n",
       "  <tbody>\n",
       "    <tr>\n",
       "      <th>0</th>\n",
       "      <td>3.0</td>\n",
       "      <td>-2.0</td>\n",
       "      <td>5.0</td>\n",
       "      <td>-1.0</td>\n",
       "      <td>2.0</td>\n",
       "      <td>-2.0</td>\n",
       "      <td>1.0</td>\n",
       "      <td>5.0</td>\n",
       "      <td>NaN</td>\n",
       "      <td>5.0</td>\n",
       "      <td>-3.0</td>\n",
       "      <td>1.0</td>\n",
       "    </tr>\n",
       "    <tr>\n",
       "      <th>1</th>\n",
       "      <td>2.0</td>\n",
       "      <td>-4.0</td>\n",
       "      <td>1.0</td>\n",
       "      <td>-1.0</td>\n",
       "      <td>1.0</td>\n",
       "      <td>-1.0</td>\n",
       "      <td>1.0</td>\n",
       "      <td>2.0</td>\n",
       "      <td>4.0</td>\n",
       "      <td>4.0</td>\n",
       "      <td>-4.0</td>\n",
       "      <td>4.0</td>\n",
       "    </tr>\n",
       "    <tr>\n",
       "      <th>2</th>\n",
       "      <td>1.0</td>\n",
       "      <td>-4.0</td>\n",
       "      <td>2.0</td>\n",
       "      <td>-3.0</td>\n",
       "      <td>3.0</td>\n",
       "      <td>-2.0</td>\n",
       "      <td>4.0</td>\n",
       "      <td>4.0</td>\n",
       "      <td>3.0</td>\n",
       "      <td>3.0</td>\n",
       "      <td>-4.0</td>\n",
       "      <td>4.0</td>\n",
       "    </tr>\n",
       "    <tr>\n",
       "      <th>3</th>\n",
       "      <td>1.0</td>\n",
       "      <td>-2.0</td>\n",
       "      <td>2.0</td>\n",
       "      <td>-2.0</td>\n",
       "      <td>2.0</td>\n",
       "      <td>-2.0</td>\n",
       "      <td>NaN</td>\n",
       "      <td>4.0</td>\n",
       "      <td>3.0</td>\n",
       "      <td>4.0</td>\n",
       "      <td>-5.0</td>\n",
       "      <td>2.0</td>\n",
       "    </tr>\n",
       "    <tr>\n",
       "      <th>4</th>\n",
       "      <td>3.0</td>\n",
       "      <td>-4.0</td>\n",
       "      <td>2.0</td>\n",
       "      <td>-4.0</td>\n",
       "      <td>3.0</td>\n",
       "      <td>-3.0</td>\n",
       "      <td>2.0</td>\n",
       "      <td>1.0</td>\n",
       "      <td>7.0</td>\n",
       "      <td>6.0</td>\n",
       "      <td>-2.0</td>\n",
       "      <td>5.0</td>\n",
       "    </tr>\n",
       "  </tbody>\n",
       "</table>\n",
       "</div>"
      ],
      "text/plain": [
       "   PartyID  Abortion  MoralRelativism  NewerLifestyles  MoralTolerance  \\\n",
       "0      3.0      -2.0              5.0             -1.0             2.0   \n",
       "1      2.0      -4.0              1.0             -1.0             1.0   \n",
       "2      1.0      -4.0              2.0             -3.0             3.0   \n",
       "3      1.0      -2.0              2.0             -2.0             2.0   \n",
       "4      3.0      -4.0              2.0             -4.0             3.0   \n",
       "\n",
       "   TraditionalFamilies  GayJobDiscrimination  GayMilitaryService  \\\n",
       "0                 -2.0                   1.0                 5.0   \n",
       "1                 -1.0                   1.0                 2.0   \n",
       "2                 -2.0                   4.0                 4.0   \n",
       "3                 -2.0                   NaN                 4.0   \n",
       "4                 -3.0                   2.0                 1.0   \n",
       "\n",
       "   NationalHealthInsurance  StandardOfLiving  ServicesVsSpending  \\\n",
       "0                      NaN               5.0                -3.0   \n",
       "1                      4.0               4.0                -4.0   \n",
       "2                      3.0               3.0                -4.0   \n",
       "3                      3.0               4.0                -5.0   \n",
       "4                      7.0               6.0                -2.0   \n",
       "\n",
       "   AffirmativeAction  \n",
       "0                1.0  \n",
       "1                4.0  \n",
       "2                4.0  \n",
       "3                2.0  \n",
       "4                5.0  "
      ]
     },
     "execution_count": 8,
     "metadata": {},
     "output_type": "execute_result"
    }
   ],
   "source": [
    "df.head()"
   ]
  },
  {
   "cell_type": "code",
   "execution_count": 9,
   "metadata": {
    "collapsed": true
   },
   "outputs": [],
   "source": [
    "df.to_csv(\"../data/processed/1996.csv\")"
   ]
  },
  {
   "cell_type": "code",
   "execution_count": null,
   "metadata": {
    "collapsed": true
   },
   "outputs": [],
   "source": []
  }
 ],
 "metadata": {
  "anaconda-cloud": {},
  "kernelspec": {
   "display_name": "Python [default]",
   "language": "python",
   "name": "python3"
  },
  "language_info": {
   "codemirror_mode": {
    "name": "ipython",
    "version": 3
   },
   "file_extension": ".py",
   "mimetype": "text/x-python",
   "name": "python",
   "nbconvert_exporter": "python",
   "pygments_lexer": "ipython3",
   "version": "3.5.2"
  }
 },
 "nbformat": 4,
 "nbformat_minor": 1
}
