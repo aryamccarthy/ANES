{
 "cells": [
  {
   "cell_type": "code",
   "execution_count": 1,
   "metadata": {
    "collapsed": false
   },
   "outputs": [
    {
     "name": "stdout",
     "output_type": "stream",
     "text": [
      "Populating the interactive namespace from numpy and matplotlib\n"
     ]
    }
   ],
   "source": [
    "%pylab --no-import-all inline"
   ]
  },
  {
   "cell_type": "markdown",
   "metadata": {
    "deletable": true,
    "editable": true
   },
   "source": [
    "# Load and preprocess 1976 data\n",
    "\n",
    "Time to start looking at other years!\n",
    "\n",
    "---"
   ]
  },
  {
   "cell_type": "code",
   "execution_count": 14,
   "metadata": {
    "collapsed": false,
    "deletable": true,
    "editable": true
   },
   "outputs": [],
   "source": [
    "import pandas as pd"
   ]
  },
  {
   "cell_type": "markdown",
   "metadata": {
    "deletable": true,
    "editable": true
   },
   "source": [
    "## Load the data.\n",
    "\n",
    "---\n",
    "\n",
    "If this fails, be sure that you've saved your own data in the prescribed location, then retry."
   ]
  },
  {
   "cell_type": "code",
   "execution_count": 15,
   "metadata": {
    "collapsed": false,
    "deletable": true,
    "editable": true
   },
   "outputs": [],
   "source": [
    "file = \"../data/interim/1976data.dta\"  \n",
    "# Matt Wilson converted the older Stata file to the one we use.\n",
    "df_rawest = pd.read_stata(file)"
   ]
  },
  {
   "cell_type": "code",
   "execution_count": 16,
   "metadata": {
    "collapsed": false,
    "deletable": true,
    "editable": true
   },
   "outputs": [],
   "source": [
    "good_columns = [\n",
    "    # Demographic\n",
    "    'V763174',  # SUMMARY-R'S PARTY ID\n",
    "    \n",
    "    'V763796',  # OPIN:WHEN ALLOW ABORTION (1: never)\n",
    "\n",
    "    'V763273',  # Private vs public insurance\n",
    "    'V763241',  # GOVT GUAR JOB/S.L  (1: guarantee)\n",
    "    'V763353',  # Gov't should spend less, even if cutting health and education.\n",
    "\n",
    "    'V763264',  # MNRTY GRP AID SCL (1: help)\n",
    "    'V763757',  # THE POOR ARE POOR BECAUSE THE AMERICAN WAY OF LIFE DOESN'T GIVE ALL PEOPLE AN EQUAL CHANCE? (1: agree)\n",
    "]\n",
    "df_raw = df_rawest[good_columns]"
   ]
  },
  {
   "cell_type": "code",
   "execution_count": 37,
   "metadata": {
    "collapsed": false
   },
   "outputs": [],
   "source": [
    "def convert_to_int(s):\n",
    "    \"\"\"Turn ANES data entry into an integer.\n",
    "    \n",
    "    >>> convert_to_int(\"1. Govt should provide many fewer services\")\n",
    "    1\n",
    "    >>> convert_to_int(\"2\")\n",
    "    2\n",
    "    \"\"\"\n",
    "    try:\n",
    "        return int(s.partition('.')[0])\n",
    "    except ValueError:\n",
    "        warnings.warn(\"Couldn't convert: \"+s)\n",
    "        return np.nan\n",
    "    except AttributeError:\n",
    "        return s\n",
    "    \n",
    "def not_informative_to_nan(x):\n",
    "    \"\"\"Convert non-informative values to missing.\n",
    "    \n",
    "    ANES codes various non-answers as 8, 9, and 0.\n",
    "    For instance, if a question does not pertain to the \n",
    "    respondent.\n",
    "    \"\"\"\n",
    "    return np.nan if x in {8, 9, 0} else x\n",
    "\n",
    "\n",
    "def fix_V763168(x):\n",
    "    return x if x in {1, 2} else 3 if x == 5 else np.nan\n",
    "\n",
    "non_pid_columns = list(df.columns)\n",
    "non_pid_columns.remove('V763174')\n",
    "\n",
    "df = df_raw.applymap(convert_to_int)\n",
    "df[non_pid_columns] = df[non_pid_columns].applymap(not_informative_to_nan)  # Dropped because its info is different.\n",
    "\n",
    "df.loc[:, 'V763796'] = df.V763796.apply(lambda x: np.nan if x in {7, 8, 9, 0} else -x)\n",
    "\n",
    "# Code so that liberal is higher numbers\n",
    "df.loc[:, 'V763174'] = df.V763174.apply(lambda x: np.nan if x >= 7 else -x)  # 7: other minor party, 8: apolitical, 9: NA\n",
    "\n",
    "# df.loc[:, 'V880951'] = df.V880951.apply(lambda x: -x)  # 1: moral relativism, 5: no relativism\n",
    "# df.loc[:, 'V880952'] = df.V880952.apply(lambda x: -x)  # Tolerance. 1: tolerance, 7: not\n",
    "# df.loc[:, 'V880852'] = df.V880852.apply(lambda x: -x)  # protect gays against discrimination\n",
    "\n",
    "df.loc[:, 'V763273'] = df.V763273.apply(lambda x: -x)  # Gov't insurance?\n",
    "df.loc[:, 'V763241'] = df.V763241.apply(lambda x: -x)  # Gov't guaranteed job?\n",
    "\n",
    "df.loc[:, 'V763264'] = df.V763264.apply(lambda x: -x)  # affirmative action\n",
    "df.loc[:, 'V763757'] = df.V763757.apply(lambda x: -x)  # Poor?\n",
    "# df.loc[:, 'V880964'] = df.V880964.apply(lambda x: -x)  # Systemic factors?\n",
    "\n",
    "df.rename(inplace=True, columns=dict(zip(\n",
    "    good_columns,\n",
    "    [\"PartyID\",\n",
    "    \n",
    "    \"Abortion\",\n",
    "#     \"MoralRelativism\",\n",
    "#     \"NewerLifestyles\",\n",
    "#     \"MoralTolerance\",\n",
    "#     \"TraditionalFamilies\",\n",
    "#     \"GayJobDiscrimination\",\n",
    "#     \"GayMilitaryService\",\n",
    "\n",
    "    \"NationalHealthInsurance\",\n",
    "    \"StandardOfLiving\",\n",
    "    \"ServicesVsSpending\",\n",
    "\n",
    "    \"AffirmativeAction\",\n",
    "#     \"RacialResentment1\",\n",
    "#     \"RacialResentment2\",\n",
    "#     \"RacialResentment3\",\n",
    "#     \"RacialResentment4\",\n",
    "     \"Poverty\",\n",
    "    ]\n",
    ")))"
   ]
  },
  {
   "cell_type": "code",
   "execution_count": 38,
   "metadata": {
    "collapsed": false
   },
   "outputs": [
    {
     "data": {
      "text/html": [
       "<div>\n",
       "<table border=\"1\" class=\"dataframe\">\n",
       "  <thead>\n",
       "    <tr style=\"text-align: right;\">\n",
       "      <th></th>\n",
       "      <th>PartyID</th>\n",
       "      <th>Abortion</th>\n",
       "      <th>NationalHealthInsurance</th>\n",
       "      <th>StandardOfLiving</th>\n",
       "      <th>ServicesVsSpending</th>\n",
       "      <th>AffirmativeAction</th>\n",
       "      <th>Poverty</th>\n",
       "    </tr>\n",
       "  </thead>\n",
       "  <tbody>\n",
       "    <tr>\n",
       "      <th>2243</th>\n",
       "      <td>-5.0</td>\n",
       "      <td>NaN</td>\n",
       "      <td>NaN</td>\n",
       "      <td>NaN</td>\n",
       "      <td>5.0</td>\n",
       "      <td>-3.0</td>\n",
       "      <td>NaN</td>\n",
       "    </tr>\n",
       "    <tr>\n",
       "      <th>2244</th>\n",
       "      <td>-5.0</td>\n",
       "      <td>NaN</td>\n",
       "      <td>-3.0</td>\n",
       "      <td>-7.0</td>\n",
       "      <td>5.0</td>\n",
       "      <td>-5.0</td>\n",
       "      <td>NaN</td>\n",
       "    </tr>\n",
       "    <tr>\n",
       "      <th>2245</th>\n",
       "      <td>-5.0</td>\n",
       "      <td>-1.0</td>\n",
       "      <td>-2.0</td>\n",
       "      <td>-7.0</td>\n",
       "      <td>5.0</td>\n",
       "      <td>-6.0</td>\n",
       "      <td>-4.0</td>\n",
       "    </tr>\n",
       "    <tr>\n",
       "      <th>2246</th>\n",
       "      <td>0.0</td>\n",
       "      <td>-4.0</td>\n",
       "      <td>-1.0</td>\n",
       "      <td>-4.0</td>\n",
       "      <td>5.0</td>\n",
       "      <td>-7.0</td>\n",
       "      <td>-5.0</td>\n",
       "    </tr>\n",
       "    <tr>\n",
       "      <th>2247</th>\n",
       "      <td>-3.0</td>\n",
       "      <td>-4.0</td>\n",
       "      <td>-7.0</td>\n",
       "      <td>-7.0</td>\n",
       "      <td>5.0</td>\n",
       "      <td>-6.0</td>\n",
       "      <td>-5.0</td>\n",
       "    </tr>\n",
       "  </tbody>\n",
       "</table>\n",
       "</div>"
      ],
      "text/plain": [
       "      PartyID  Abortion  NationalHealthInsurance  StandardOfLiving  \\\n",
       "2243     -5.0       NaN                      NaN               NaN   \n",
       "2244     -5.0       NaN                     -3.0              -7.0   \n",
       "2245     -5.0      -1.0                     -2.0              -7.0   \n",
       "2246      0.0      -4.0                     -1.0              -4.0   \n",
       "2247     -3.0      -4.0                     -7.0              -7.0   \n",
       "\n",
       "      ServicesVsSpending  AffirmativeAction  Poverty  \n",
       "2243                 5.0               -3.0      NaN  \n",
       "2244                 5.0               -5.0      NaN  \n",
       "2245                 5.0               -6.0     -4.0  \n",
       "2246                 5.0               -7.0     -5.0  \n",
       "2247                 5.0               -6.0     -5.0  "
      ]
     },
     "execution_count": 38,
     "metadata": {},
     "output_type": "execute_result"
    }
   ],
   "source": [
    "df.tail()"
   ]
  },
  {
   "cell_type": "code",
   "execution_count": 39,
   "metadata": {
    "collapsed": false
   },
   "outputs": [
    {
     "name": "stdout",
     "output_type": "stream",
     "text": [
      "Variables now available: df\n"
     ]
    }
   ],
   "source": [
    "print(\"Variables now available: df\")"
   ]
  },
  {
   "cell_type": "code",
   "execution_count": 40,
   "metadata": {
    "collapsed": false
   },
   "outputs": [
    {
     "data": {
      "text/plain": [
       "1. WEAK DEM 5 5 0      547\n",
       "0. STRONG DEM 5 1 0    338\n",
       "5. WEAK REP 1 5 0      327\n",
       "3. IND-IND 2 0 3       315\n",
       "2. IND-DEM 2 0 5       260\n",
       "4. IND-REP 2 0 1       218\n",
       "6. STRONG REP 1 1 0    208\n",
       "8. APOLITICAL 3 0 3     20\n",
       "7. OTH,MINOR PARTY,      9\n",
       "9. NA,DK 8 0 0           6\n",
       "Name: V763174, dtype: int64"
      ]
     },
     "execution_count": 40,
     "metadata": {},
     "output_type": "execute_result"
    }
   ],
   "source": [
    "df_rawest.V763174.value_counts()"
   ]
  },
  {
   "cell_type": "code",
   "execution_count": 41,
   "metadata": {
    "collapsed": false
   },
   "outputs": [
    {
     "data": {
      "text/plain": [
       "-1.0    547\n",
       " 0.0    338\n",
       "-5.0    327\n",
       "-3.0    315\n",
       "-2.0    260\n",
       "-4.0    218\n",
       "-6.0    208\n",
       "Name: PartyID, dtype: int64"
      ]
     },
     "execution_count": 41,
     "metadata": {},
     "output_type": "execute_result"
    }
   ],
   "source": [
    "df.PartyID.value_counts()"
   ]
  },
  {
   "cell_type": "code",
   "execution_count": 42,
   "metadata": {
    "collapsed": true
   },
   "outputs": [],
   "source": [
    "df.to_csv(\"../data/processed/1976.csv\")"
   ]
  },
  {
   "cell_type": "code",
   "execution_count": null,
   "metadata": {
    "collapsed": true
   },
   "outputs": [],
   "source": []
  }
 ],
 "metadata": {
  "anaconda-cloud": {},
  "kernelspec": {
   "display_name": "Python [default]",
   "language": "python",
   "name": "python3"
  },
  "language_info": {
   "codemirror_mode": {
    "name": "ipython",
    "version": 3
   },
   "file_extension": ".py",
   "mimetype": "text/x-python",
   "name": "python",
   "nbconvert_exporter": "python",
   "pygments_lexer": "ipython3",
   "version": "3.5.2"
  }
 },
 "nbformat": 4,
 "nbformat_minor": 1
}
