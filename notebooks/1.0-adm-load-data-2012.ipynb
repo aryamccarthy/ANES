{
 "cells": [
  {
   "cell_type": "markdown",
   "metadata": {},
   "source": [
    "# Load and preprocess 2012 data\n",
    "\n",
    "We will, over time, look over other years. Our current goal is to explore the features of a single year.\n",
    "\n",
    "---"
   ]
  },
  {
   "cell_type": "code",
   "execution_count": 1,
   "metadata": {
    "collapsed": false
   },
   "outputs": [
    {
     "name": "stdout",
     "output_type": "stream",
     "text": [
      "Populating the interactive namespace from numpy and matplotlib\n"
     ]
    }
   ],
   "source": [
    "%pylab --no-import-all inline\n",
    "import pandas as pd\n",
    "%matplotlib inline"
   ]
  },
  {
   "cell_type": "markdown",
   "metadata": {},
   "source": [
    "## Load the data.\n",
    "\n",
    "---\n",
    "\n",
    "If this fails, be sure that you've saved your own data in the prescribed location, then retry."
   ]
  },
  {
   "cell_type": "code",
   "execution_count": 2,
   "metadata": {
    "collapsed": false
   },
   "outputs": [],
   "source": [
    "file = \"../data/anes_timeseries_2012.dta\"\n",
    "df_rawest = pd.read_stata(file)\n",
    "\n",
    "good_columns = ['campfin_limcorp', # \"Should gov be able to limit corporate contributions\"\n",
    "                'pid_self', # Your own party identification\n",
    "                'spsrvpr_ssself', # Government services\n",
    "                'defsppr_self', # Defense spending\n",
    "                'inspre_self', # 7pt scale govt-private medical insur scale\n",
    "                'gun_control', # Gun control\n",
    "                'guarpr_self',  # Is the gov't responsible for standard of living?\n",
    "                'immig_policy',  # Which comes closest to your view about what government policy should be toward unauthorized immigrants now living in the United States?\n",
    "                'aidblack_self',  # 7pt scale govt assistance to blacks scale: self-placemt\n",
    "                'envjob_self',  # environment-jobs tradeoff self-placement\n",
    "                'aa_uni',  # Does R favor or oppose affirmative action in universities\n",
    "                'fedspend_ss',  # Federal Budget Spending: Social Security\n",
    "                'fedspend_schools',  # Federal Budget Spending: public schools\n",
    "                'fedspend_scitech',  # Federal Budget Spending: science and technology}\n",
    "                'fedspend_crime',  # Federal Budget Spending: dealing with crime\n",
    "                'fedspend_welfare',  # Federal Budget Spending: welfare programs\n",
    "                'envir_gwarm',  # Is global warming happening or not\n",
    "                'gayrt_marry',  # position on gay marriage\n",
    "                'penalty_favdpen', # Favor death penalty?\n",
    "                'relig_churchoft', # Do you go to church often?\n",
    "                'dem_edu',  # Not really about parties.\n",
    "                'dem_veteran', # Are you a veteran?\n",
    "                'budget_rdefctax',  # Reduce deficit by increasing corporate taxes\n",
    "                'budget_rdefmil',  # Reduce deficit by cutting military spending\n",
    "                'patriot_amident',  # How important is being an American to you personally?\n",
    "                'milln_milltax',  # \"Favor or oppose tax on millionaires\"\n",
    "                'budget_rdef250k',  # Reduce deficit by raising personal inc tax for over 250K inc\n",
    "                'fairjob_opin',  # \"Opinion about govt ensuring fair jobs for blacks\"\n",
    "                'immigpo_jobs',  # Do immigrants take jobs?\n",
    "                'wiretap_warrant',  # \"Favor or oppose court auth for terr suspect wiretaps\"\n",
    "                'postvote_presvtwho',  # Did you vote for President Obama?\n",
    "               ]\n",
    "\n",
    "\n",
    "df_raw = df_rawest[good_columns]"
   ]
  },
  {
   "cell_type": "markdown",
   "metadata": {},
   "source": [
    "## Clean the data\n",
    "---"
   ]
  },
  {
   "cell_type": "code",
   "execution_count": 3,
   "metadata": {
    "collapsed": false
   },
   "outputs": [],
   "source": [
    "def convert_to_int(s):\n",
    "    \"\"\"Turn ANES data entry into an integer.\n",
    "    \n",
    "    >>> convert_to_int(\"1. Govt should provide many fewer services\")\n",
    "    1\n",
    "    >>> convert_to_int(\"2\")\n",
    "    2\n",
    "    \"\"\"\n",
    "    try:\n",
    "        return int(s.partition('.')[0])\n",
    "    except ValueError:\n",
    "        warnings.warn(\"Couldn't convert: \"+s)\n",
    "        return np.nan\n",
    "    except AttributeError:\n",
    "        return s\n",
    "\n",
    "def negative_to_nan(value):\n",
    "    \"\"\"Convert negative values to missing.\n",
    "    \n",
    "    ANES codes various non-answers as negative numbers.\n",
    "    For instance, if a question does not pertain to the \n",
    "    respondent.\n",
    "    \"\"\"\n",
    "    return value if value >= 0 else np.nan\n",
    "\n",
    "def lib1_cons2_neutral3(x):\n",
    "    \"\"\"Rearrange questions where 3 is neutral.\"\"\"\n",
    "    return -3 + x if x != 1 else x\n",
    "\n",
    "def liblow_conshigh(x):\n",
    "    \"\"\"Reorder questions where the liberal response is low.\"\"\"\n",
    "    return -x\n",
    "\n",
    "def dem_edu_special_treatment(x):\n",
    "    \"\"\"Eliminate negative numbers and {95. Other}\"\"\"\n",
    "    return np.nan if x == 95 or x <0 else x\n",
    "\n",
    "def pid_self_special_treatment(x):\n",
    "    return np.nan if x not in {1, 2, 3} else lib1_cons2_neutral3(x)\n",
    "\n",
    "transforms = {}\n",
    "transforms['campfin_limcorp'] = lib1_cons2_neutral3\n",
    "transforms['pid_self'] = pid_self_special_treatment\n",
    "transforms['defsppr_self'] = liblow_conshigh\n",
    "transforms['inspre_self'] = liblow_conshigh\n",
    "transforms['gun_control'] = lib1_cons2_neutral3\n",
    "transforms['guarpr_self'] = liblow_conshigh\n",
    "transforms['aidblack_self'] = liblow_conshigh\n",
    "transforms['envjob_self'] = liblow_conshigh\n",
    "transforms['aa_uni'] = lib1_cons2_neutral3\n",
    "transforms['fedspend_ss'] = lib1_cons2_neutral3\n",
    "transforms['fedspend_schools'] = lib1_cons2_neutral3\n",
    "transforms['fedspend_scitech'] = lib1_cons2_neutral3\n",
    "transforms['fedspend_crime'] = lib1_cons2_neutral3\n",
    "transforms['fedspend_welfare'] = lib1_cons2_neutral3\n",
    "transforms['envir_gwarm'] = liblow_conshigh\n",
    "transforms['gayrt_marry'] = liblow_conshigh\n",
    "transforms['relig_churchoft'] = liblow_conshigh\n",
    "transforms['budget_rdefctax'] = lib1_cons2_neutral3\n",
    "transforms['budget_rdefmil'] = lib1_cons2_neutral3\n",
    "transforms['milln_milltax'] = lib1_cons2_neutral3\n",
    "transforms['fairjob_opin'] = lambda x: np.nan if x not in {1, 2} else -x\n",
    "transforms['wiretap_warrant'] = lib1_cons2_neutral3\n",
    "transforms['dem_edu'] = dem_edu_special_treatment\n",
    "transforms['budget_rdef250K'] = lib1_cons2_neutral3\n",
    "transforms['postvote_presvtwho'] = lambda x: np.nan if x not in {1, 2, 5} else (3 - 2 * x) if x in {1, 2} else 0\n",
    "\n",
    "df = df_raw.applymap(convert_to_int)\n",
    "df = df.applymap(negative_to_nan)\n",
    "\n",
    "# Transform each column.\n",
    "for column in df.columns:\n",
    "    try:\n",
    "        df[column] = df[column].map(transforms[column], na_action='ignore')\n",
    "    except KeyError:\n",
    "        pass"
   ]
  },
  {
   "cell_type": "code",
   "execution_count": 4,
   "metadata": {
    "collapsed": false
   },
   "outputs": [
    {
     "name": "stdout",
     "output_type": "stream",
     "text": [
      "Variables now available: df\n"
     ]
    }
   ],
   "source": [
    "print(\"Variables now available: df\")"
   ]
  },
  {
   "cell_type": "code",
   "execution_count": 5,
   "metadata": {
    "collapsed": false
   },
   "outputs": [
    {
     "data": {
      "text/plain": [
       "1. Democrat                 2361\n",
       "3. Independent              1845\n",
       "2. Republican               1389\n",
       "5. Other party {SPECIFY}     161\n",
       "0. No preference {VOL}        66\n",
       "-9. Refused                   48\n",
       "-8. Don't know                44\n",
       "Name: pid_self, dtype: int64"
      ]
     },
     "execution_count": 5,
     "metadata": {},
     "output_type": "execute_result"
    }
   ],
   "source": [
    "df_rawest.pid_self.value_counts()"
   ]
  },
  {
   "cell_type": "code",
   "execution_count": null,
   "metadata": {
    "collapsed": true
   },
   "outputs": [],
   "source": []
  }
 ],
 "metadata": {
  "anaconda-cloud": {},
  "kernelspec": {
   "display_name": "Python [default]",
   "language": "python",
   "name": "python3"
  },
  "language_info": {
   "codemirror_mode": {
    "name": "ipython",
    "version": 3
   },
   "file_extension": ".py",
   "mimetype": "text/x-python",
   "name": "python",
   "nbconvert_exporter": "python",
   "pygments_lexer": "ipython3",
   "version": "3.5.2"
  }
 },
 "nbformat": 4,
 "nbformat_minor": 1
}
